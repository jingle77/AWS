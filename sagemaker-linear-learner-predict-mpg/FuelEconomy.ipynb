{
 "cells": [
  {
   "cell_type": "markdown",
   "id": "13a6ad15-a11b-454f-8261-f1fb5ab1c63a",
   "metadata": {
    "tags": []
   },
   "source": [
    "# Training"
   ]
  },
  {
   "cell_type": "markdown",
   "id": "414e7bab-ff43-476f-be09-66681b0b1f98",
   "metadata": {
    "tags": []
   },
   "source": [
    "## Import Data | Split into Train/Test"
   ]
  },
  {
   "cell_type": "code",
   "execution_count": 30,
   "id": "9bba850f-af1b-47aa-8427-f93bf666abb5",
   "metadata": {
    "tags": []
   },
   "outputs": [],
   "source": [
    "import pandas as pd\n",
    "import numpy as np\n",
    "from sklearn.model_selection import train_test_split\n",
    "\n",
    "data = pd.read_csv(\"FuelEconomy.csv\")\n",
    "data.head()\n",
    "\n",
    "X = data['Horse Power']\n",
    "y = data['Fuel Economy (MPG)']\n",
    "\n",
    "X = np.array(X).astype('float32')\n",
    "y = np.array(y).astype('float32')\n",
    "\n",
    "X_train, X_test, y_train, y_test = train_test_split(X,y, test_size=0.30)"
   ]
  },
  {
   "cell_type": "markdown",
   "id": "c7bf01ba-d4cf-44b3-9c1e-16f075fbcd35",
   "metadata": {
    "tags": []
   },
   "source": [
    "## Import AWS SDK via Boto3 | Retrieve Sagemaker Execution Role"
   ]
  },
  {
   "cell_type": "code",
   "execution_count": 31,
   "id": "e34714a7-87f6-4413-bb49-45b9053544e2",
   "metadata": {
    "tags": []
   },
   "outputs": [
    {
     "name": "stdout",
     "output_type": "stream",
     "text": [
      "sagemaker.config INFO - Not applying SDK defaults from location: /etc/xdg/sagemaker/config.yaml\n",
      "sagemaker.config INFO - Not applying SDK defaults from location: /home/ec2-user/.config/sagemaker/config.yaml\n",
      "sagemaker.config INFO - Not applying SDK defaults from location: /etc/xdg/sagemaker/config.yaml\n",
      "sagemaker.config INFO - Not applying SDK defaults from location: /home/ec2-user/.config/sagemaker/config.yaml\n",
      "arn:aws:iam::809503251832:role/AWS_Sagemaker_Full_Access\n"
     ]
    }
   ],
   "source": [
    "import sagemaker\n",
    "import boto3\n",
    "\n",
    "sagemaker_session = sagemaker.Session()\n",
    "\n",
    "bucket = 'jingle-projects'\n",
    "prefix = 'linear_learner'\n",
    "\n",
    "role = sagemaker.get_execution_role()\n",
    "print(role)"
   ]
  },
  {
   "cell_type": "markdown",
   "id": "fb34d521-5ac6-4a29-9eb5-80c127945345",
   "metadata": {
    "tags": []
   },
   "source": [
    "## Convert Train Data to RecordIO"
   ]
  },
  {
   "cell_type": "code",
   "execution_count": 32,
   "id": "de95d1f6-dd19-48a0-b8ea-54daef92a649",
   "metadata": {
    "tags": []
   },
   "outputs": [
    {
     "data": {
      "text/plain": [
       "0"
      ]
     },
     "execution_count": 32,
     "metadata": {},
     "output_type": "execute_result"
    }
   ],
   "source": [
    "import io\n",
    "import numpy as np\n",
    "import sagemaker.amazon.common as smac\n",
    "\n",
    "X_train = X_train.reshape(-1, 1)\n",
    "\n",
    "buf = io.BytesIO()\n",
    "smac.write_numpy_to_dense_tensor(buf, X_train, y_train)\n",
    "buf.seek(0) "
   ]
  },
  {
   "cell_type": "markdown",
   "id": "b87e065a-b1dc-4f97-b869-2a9a18524669",
   "metadata": {
    "tags": []
   },
   "source": [
    "## Upload Training Data to S3 for Training"
   ]
  },
  {
   "cell_type": "code",
   "execution_count": 33,
   "id": "036c6eee-739c-4316-a619-a34501efffa2",
   "metadata": {
    "tags": []
   },
   "outputs": [
    {
     "name": "stdout",
     "output_type": "stream",
     "text": [
      "uploaded training data location: s3://jingle-projects/linear_learner/train/mpg-train-data\n"
     ]
    }
   ],
   "source": [
    "import os\n",
    "\n",
    "key = 'mpg-train-data'\n",
    "boto3.resource('s3').Bucket(bucket).Object(os.path.join(prefix, 'train', key)).upload_fileobj(buf)\n",
    "s3_train_data = 's3://{}/{}/train/{}'.format(bucket, prefix, key)\n",
    "print('uploaded training data location: {}'.format(s3_train_data))"
   ]
  },
  {
   "cell_type": "markdown",
   "id": "08e3e28e-f0bc-44fe-91b7-9bbf3f91c252",
   "metadata": {
    "tags": []
   },
   "source": [
    "## Convert Test Data to RecordIO"
   ]
  },
  {
   "cell_type": "code",
   "execution_count": 37,
   "id": "dc2fc83a-fe5d-4126-8f14-831fbfe444e6",
   "metadata": {
    "tags": []
   },
   "outputs": [
    {
     "data": {
      "text/plain": [
       "0"
      ]
     },
     "execution_count": 37,
     "metadata": {},
     "output_type": "execute_result"
    }
   ],
   "source": [
    "X_test = X_test.reshape(-1, 1)\n",
    "y_test = y_test.astype('float32')\n",
    "\n",
    "buf = io.BytesIO()\n",
    "smac.write_numpy_to_dense_tensor(buf, X_test, y_test)\n",
    "buf.seek(0) "
   ]
  },
  {
   "cell_type": "markdown",
   "id": "17c5c5db-fe70-433a-ba7b-c7e445128bfa",
   "metadata": {},
   "source": [
    "## Upload Test Data to S3 for Training"
   ]
  },
  {
   "cell_type": "code",
   "execution_count": 38,
   "id": "04bb8e84-f8d6-4ef9-99ec-7ba4d8f7d4ef",
   "metadata": {
    "tags": []
   },
   "outputs": [
    {
     "name": "stdout",
     "output_type": "stream",
     "text": [
      "uploaded training data location: s3://jingle-projects/linear_learner/test/linear-test-data\n"
     ]
    }
   ],
   "source": [
    "key = 'linear-test-data'\n",
    "\n",
    "boto3.resource('s3').Bucket(bucket).Object(os.path.join(prefix, 'test', key)).upload_fileobj(buf)\n",
    "\n",
    "s3_test_data = 's3://{}/{}/test/{}'.format(bucket, prefix, key)\n",
    "print('uploaded training data location: {}'.format(s3_test_data))"
   ]
  },
  {
   "cell_type": "markdown",
   "id": "cf7a180d-783c-43c8-b544-4a5b02790803",
   "metadata": {},
   "source": [
    "## Placeholder to Store Model Output"
   ]
  },
  {
   "cell_type": "code",
   "execution_count": 39,
   "id": "c639e893-7a91-4d2e-82ea-8587fe147f35",
   "metadata": {
    "tags": []
   },
   "outputs": [
    {
     "name": "stdout",
     "output_type": "stream",
     "text": [
      "Training artifacts will be uploaded to: s3://jingle-projects/linear_learner/output\n"
     ]
    }
   ],
   "source": [
    "output_location = 's3://{}/{}/output'.format(bucket, prefix)\n",
    "print('Training artifacts will be uploaded to: {}'.format(output_location))"
   ]
  },
  {
   "cell_type": "markdown",
   "id": "05fe1d51-a962-4378-986a-27374cc77a2d",
   "metadata": {},
   "source": [
    "## Retrieve the training container for the LinearLearner algorithm"
   ]
  },
  {
   "cell_type": "code",
   "execution_count": 46,
   "id": "1de5a872-4353-4772-839b-8c991a73d33a",
   "metadata": {
    "tags": []
   },
   "outputs": [
    {
     "name": "stderr",
     "output_type": "stream",
     "text": [
      "INFO:sagemaker.image_uris:Same images used for training and inference. Defaulting to image scope: inference.\n",
      "INFO:sagemaker.image_uris:Defaulting to the only supported framework/algorithm version: 1.\n",
      "INFO:sagemaker.image_uris:Ignoring unnecessary instance type: None.\n"
     ]
    }
   ],
   "source": [
    "container = sagemaker.image_uris.retrieve(\"linear-learner\", boto3.Session().region_name)"
   ]
  },
  {
   "cell_type": "markdown",
   "id": "d97161da-95a4-4d23-a1ee-08f9e2c6a289",
   "metadata": {},
   "source": [
    "## Create the estimator object and sets hyperparameters"
   ]
  },
  {
   "cell_type": "code",
   "execution_count": 47,
   "id": "3b94ffd7-fa6b-4384-a9e6-15048f05dc11",
   "metadata": {
    "tags": []
   },
   "outputs": [],
   "source": [
    "linear = sagemaker.estimator.Estimator(container,\n",
    "                                       role, \n",
    "                                       instance_count = 1, \n",
    "                                       instance_type = 'ml.m4.xlarge',\n",
    "                                       output_path = output_location,\n",
    "                                       sagemaker_session = sagemaker_session,\n",
    "                                       use_spot_instances=True,\n",
    "                                       max_run = 60,\n",
    "                                       max_wait = 120)\n",
    "\n",
    "linear.set_hyperparameters(feature_dim = 1,\n",
    "                           predictor_type = 'regressor',\n",
    "                           mini_batch_size = 5,\n",
    "                           epochs = 5,\n",
    "                           num_models = 32,\n",
    "                           loss = 'absolute_loss')"
   ]
  },
  {
   "cell_type": "markdown",
   "id": "801b9c85-6075-459f-b0bc-9542e623d498",
   "metadata": {
    "tags": []
   },
   "source": [
    "## Train the Model!"
   ]
  },
  {
   "cell_type": "code",
   "execution_count": 48,
   "id": "edc875b3-33ba-499d-b7ee-2e8d0297b91b",
   "metadata": {
    "tags": []
   },
   "outputs": [
    {
     "name": "stderr",
     "output_type": "stream",
     "text": [
      "INFO:sagemaker:Creating training-job with name: linear-learner-2023-11-20-19-46-17-193\n"
     ]
    },
    {
     "name": "stdout",
     "output_type": "stream",
     "text": [
      "2023-11-20 19:46:17 Starting - Starting the training job......\n",
      "2023-11-20 19:46:54 Starting - Preparing the instances for training......\n",
      "2023-11-20 19:47:57 Downloading - Downloading input data...\n",
      "2023-11-20 19:48:27 Training - Downloading the training image......\n",
      "2023-11-20 19:49:43 Training - Training image download completed. Training in progress...\u001b[34mDocker entrypoint called with argument(s): train\u001b[0m\n",
      "\u001b[34mRunning default environment configuration script\u001b[0m\n",
      "\u001b[34m[11/20/2023 19:50:03 INFO 140698178795328] Reading default configuration from /opt/amazon/lib/python3.8/site-packages/algorithm/resources/default-input.json: {'mini_batch_size': '1000', 'epochs': '15', 'feature_dim': 'auto', 'use_bias': 'true', 'binary_classifier_model_selection_criteria': 'accuracy', 'f_beta': '1.0', 'target_recall': '0.8', 'target_precision': '0.8', 'num_models': 'auto', 'num_calibration_samples': '10000000', 'init_method': 'uniform', 'init_scale': '0.07', 'init_sigma': '0.01', 'init_bias': '0.0', 'optimizer': 'auto', 'loss': 'auto', 'margin': '1.0', 'quantile': '0.5', 'loss_insensitivity': '0.01', 'huber_delta': '1.0', 'num_classes': '1', 'accuracy_top_k': '3', 'wd': 'auto', 'l1': 'auto', 'momentum': 'auto', 'learning_rate': 'auto', 'beta_1': 'auto', 'beta_2': 'auto', 'bias_lr_mult': 'auto', 'bias_wd_mult': 'auto', 'use_lr_scheduler': 'true', 'lr_scheduler_step': 'auto', 'lr_scheduler_factor': 'auto', 'lr_scheduler_minimum_lr': 'auto', 'positive_example_weight_mult': '1.0', 'balance_multiclass_weights': 'false', 'normalize_data': 'true', 'normalize_label': 'auto', 'unbias_data': 'auto', 'unbias_label': 'auto', 'num_point_for_scaler': '10000', '_kvstore': 'auto', '_num_gpus': 'auto', '_num_kv_servers': 'auto', '_log_level': 'info', '_tuning_objective_metric': '', 'early_stopping_patience': '3', 'early_stopping_tolerance': '0.001', '_enable_profiler': 'false'}\u001b[0m\n",
      "\u001b[34m[11/20/2023 19:50:03 INFO 140698178795328] Merging with provided configuration from /opt/ml/input/config/hyperparameters.json: {'epochs': '5', 'feature_dim': '1', 'loss': 'absolute_loss', 'mini_batch_size': '5', 'num_models': '32', 'predictor_type': 'regressor'}\u001b[0m\n",
      "\u001b[34m[11/20/2023 19:50:03 INFO 140698178795328] Final configuration: {'mini_batch_size': '5', 'epochs': '5', 'feature_dim': '1', 'use_bias': 'true', 'binary_classifier_model_selection_criteria': 'accuracy', 'f_beta': '1.0', 'target_recall': '0.8', 'target_precision': '0.8', 'num_models': '32', 'num_calibration_samples': '10000000', 'init_method': 'uniform', 'init_scale': '0.07', 'init_sigma': '0.01', 'init_bias': '0.0', 'optimizer': 'auto', 'loss': 'absolute_loss', 'margin': '1.0', 'quantile': '0.5', 'loss_insensitivity': '0.01', 'huber_delta': '1.0', 'num_classes': '1', 'accuracy_top_k': '3', 'wd': 'auto', 'l1': 'auto', 'momentum': 'auto', 'learning_rate': 'auto', 'beta_1': 'auto', 'beta_2': 'auto', 'bias_lr_mult': 'auto', 'bias_wd_mult': 'auto', 'use_lr_scheduler': 'true', 'lr_scheduler_step': 'auto', 'lr_scheduler_factor': 'auto', 'lr_scheduler_minimum_lr': 'auto', 'positive_example_weight_mult': '1.0', 'balance_multiclass_weights': 'false', 'normalize_data': 'true', 'normalize_label': 'auto', 'unbias_data': 'auto', 'unbias_label': 'auto', 'num_point_for_scaler': '10000', '_kvstore': 'auto', '_num_gpus': 'auto', '_num_kv_servers': 'auto', '_log_level': 'info', '_tuning_objective_metric': '', 'early_stopping_patience': '3', 'early_stopping_tolerance': '0.001', '_enable_profiler': 'false', 'predictor_type': 'regressor'}\u001b[0m\n",
      "\u001b[34m/opt/amazon/lib/python3.8/site-packages/mxnet/model.py:97: SyntaxWarning: \"is\" with a literal. Did you mean \"==\"?\n",
      "  if num_device is 1 and 'dist' not in kvstore:\u001b[0m\n",
      "\u001b[34m/opt/amazon/lib/python3.8/site-packages/scipy/optimize/_shgo.py:495: SyntaxWarning: \"is\" with a literal. Did you mean \"==\"?\n",
      "  if cons['type'] is 'ineq':\u001b[0m\n",
      "\u001b[34m/opt/amazon/lib/python3.8/site-packages/scipy/optimize/_shgo.py:743: SyntaxWarning: \"is not\" with a literal. Did you mean \"!=\"?\n",
      "  if len(self.X_min) is not 0:\u001b[0m\n",
      "\u001b[34m[11/20/2023 19:50:06 WARNING 140698178795328] Loggers have already been setup.\u001b[0m\n",
      "\u001b[34m[11/20/2023 19:50:06 INFO 140698178795328] Final configuration: {'mini_batch_size': '5', 'epochs': '5', 'feature_dim': '1', 'use_bias': 'true', 'binary_classifier_model_selection_criteria': 'accuracy', 'f_beta': '1.0', 'target_recall': '0.8', 'target_precision': '0.8', 'num_models': '32', 'num_calibration_samples': '10000000', 'init_method': 'uniform', 'init_scale': '0.07', 'init_sigma': '0.01', 'init_bias': '0.0', 'optimizer': 'auto', 'loss': 'absolute_loss', 'margin': '1.0', 'quantile': '0.5', 'loss_insensitivity': '0.01', 'huber_delta': '1.0', 'num_classes': '1', 'accuracy_top_k': '3', 'wd': 'auto', 'l1': 'auto', 'momentum': 'auto', 'learning_rate': 'auto', 'beta_1': 'auto', 'beta_2': 'auto', 'bias_lr_mult': 'auto', 'bias_wd_mult': 'auto', 'use_lr_scheduler': 'true', 'lr_scheduler_step': 'auto', 'lr_scheduler_factor': 'auto', 'lr_scheduler_minimum_lr': 'auto', 'positive_example_weight_mult': '1.0', 'balance_multiclass_weights': 'false', 'normalize_data': 'true', 'normalize_label': 'auto', 'unbias_data': 'auto', 'unbias_label': 'auto', 'num_point_for_scaler': '10000', '_kvstore': 'auto', '_num_gpus': 'auto', '_num_kv_servers': 'auto', '_log_level': 'info', '_tuning_objective_metric': '', 'early_stopping_patience': '3', 'early_stopping_tolerance': '0.001', '_enable_profiler': 'false', 'predictor_type': 'regressor'}\u001b[0m\n",
      "\u001b[34m[11/20/2023 19:50:06 WARNING 140698178795328] Loggers have already been setup.\u001b[0m\n",
      "\u001b[34mProcess 7 is a worker.\u001b[0m\n",
      "\u001b[34m[11/20/2023 19:50:06 INFO 140698178795328] Using default worker.\u001b[0m\n",
      "\u001b[34m[11/20/2023 19:50:06 INFO 140698178795328] Checkpoint loading and saving are disabled.\u001b[0m\n",
      "\u001b[34m[2023-11-20 19:50:06.607] [tensorio] [info] epoch_stats={\"data_pipeline\": \"/opt/ml/input/data/train\", \"epoch\": 0, \"duration\": 15, \"num_examples\": 1, \"num_bytes\": 240}\u001b[0m\n",
      "\u001b[34m[11/20/2023 19:50:06 INFO 140698178795328] Create Store: local\u001b[0m\n",
      "\n",
      "2023-11-20 19:50:13 Uploading - Uploading generated training model\u001b[34m[2023-11-20 19:50:06.726] [tensorio] [info] epoch_stats={\"data_pipeline\": \"/opt/ml/input/data/train\", \"epoch\": 1, \"duration\": 118, \"num_examples\": 14, \"num_bytes\": 3360}\u001b[0m\n",
      "\u001b[34m[11/20/2023 19:50:06 INFO 140698178795328] Scaler algorithm parameters\n",
      " <algorithm.scaler.ScalerAlgorithmStable object at 0x7ff648bfb5b0>\u001b[0m\n",
      "\u001b[34m[11/20/2023 19:50:06 INFO 140698178795328] Scaling model computed with parameters:\n",
      " {'stdev_label': \u001b[0m\n",
      "\u001b[34m[4.5496764]\u001b[0m\n",
      "\u001b[34m<NDArray 1 @cpu(0)>, 'stdev_weight': \u001b[0m\n",
      "\u001b[34m[62.567955]\u001b[0m\n",
      "\u001b[34m<NDArray 1 @cpu(0)>, 'mean_label': \u001b[0m\n",
      "\u001b[34m[23.71373]\u001b[0m\n",
      "\u001b[34m<NDArray 1 @cpu(0)>, 'mean_weight': \u001b[0m\n",
      "\u001b[34m[208.81526]\u001b[0m\n",
      "\u001b[34m<NDArray 1 @cpu(0)>}\u001b[0m\n",
      "\u001b[34m/opt/amazon/python3.8/lib/python3.8/subprocess.py:848: RuntimeWarning: line buffering (buffering=1) isn't supported in binary mode, the default buffer size will be used\n",
      "  self.stdout = io.open(c2pread, 'rb', bufsize)\u001b[0m\n",
      "\u001b[34m[11/20/2023 19:50:06 INFO 140698178795328] nvidia-smi: took 0.033 seconds to run.\u001b[0m\n",
      "\u001b[34m[11/20/2023 19:50:06 INFO 140698178795328] nvidia-smi identified 0 GPUs.\u001b[0m\n",
      "\u001b[34m[11/20/2023 19:50:06 INFO 140698178795328] Number of GPUs being used: 0\u001b[0m\n",
      "\u001b[34m#metrics {\"StartTime\": 1700509806.8436112, \"EndTime\": 1700509806.8436558, \"Dimensions\": {\"Algorithm\": \"Linear Learner\", \"Host\": \"algo-1\", \"Operation\": \"training\", \"Meta\": \"init_train_data_iter\"}, \"Metrics\": {\"Total Records Seen\": {\"sum\": 75.0, \"count\": 1, \"min\": 75, \"max\": 75}, \"Total Batches Seen\": {\"sum\": 15.0, \"count\": 1, \"min\": 15, \"max\": 15}, \"Max Records Seen Between Resets\": {\"sum\": 70.0, \"count\": 1, \"min\": 70, \"max\": 70}, \"Max Batches Seen Between Resets\": {\"sum\": 14.0, \"count\": 1, \"min\": 14, \"max\": 14}, \"Reset Count\": {\"sum\": 2.0, \"count\": 1, \"min\": 2, \"max\": 2}, \"Number of Records Since Last Reset\": {\"sum\": 0.0, \"count\": 1, \"min\": 0, \"max\": 0}, \"Number of Batches Since Last Reset\": {\"sum\": 0.0, \"count\": 1, \"min\": 0, \"max\": 0}}}\u001b[0m\n",
      "\u001b[34m[2023-11-20 19:50:07.196] [tensorio] [info] epoch_stats={\"data_pipeline\": \"/opt/ml/input/data/train\", \"epoch\": 4, \"duration\": 352, \"num_examples\": 14, \"num_bytes\": 3360}\u001b[0m\n",
      "\u001b[34m#metrics {\"StartTime\": 1700509807.1970363, \"EndTime\": 1700509807.1971426, \"Dimensions\": {\"Algorithm\": \"Linear Learner\", \"Host\": \"algo-1\", \"Operation\": \"training\", \"epoch\": 0, \"model\": 0}, \"Metrics\": {\"train_absolute_loss_objective\": {\"sum\": 0.7695266587393624, \"count\": 1, \"min\": 0.7695266587393624, \"max\": 0.7695266587393624}}}\u001b[0m\n",
      "\u001b[34m#metrics {\"StartTime\": 1700509807.1972637, \"EndTime\": 1700509807.1972897, \"Dimensions\": {\"Algorithm\": \"Linear Learner\", \"Host\": \"algo-1\", \"Operation\": \"training\", \"epoch\": 0, \"model\": 1}, \"Metrics\": {\"train_absolute_loss_objective\": {\"sum\": 0.75241539478302, \"count\": 1, \"min\": 0.75241539478302, \"max\": 0.75241539478302}}}\u001b[0m\n",
      "\u001b[34m#metrics {\"StartTime\": 1700509807.1973565, \"EndTime\": 1700509807.1973753, \"Dimensions\": {\"Algorithm\": \"Linear Learner\", \"Host\": \"algo-1\", \"Operation\": \"training\", \"epoch\": 0, \"model\": 2}, \"Metrics\": {\"train_absolute_loss_objective\": {\"sum\": 0.7674539429800851, \"count\": 1, \"min\": 0.7674539429800851, \"max\": 0.7674539429800851}}}\u001b[0m\n",
      "\u001b[34m#metrics {\"StartTime\": 1700509807.1975071, \"EndTime\": 1700509807.1975288, \"Dimensions\": {\"Algorithm\": \"Linear Learner\", \"Host\": \"algo-1\", \"Operation\": \"training\", \"epoch\": 0, \"model\": 3}, \"Metrics\": {\"train_absolute_loss_objective\": {\"sum\": 0.7532898153577532, \"count\": 1, \"min\": 0.7532898153577532, \"max\": 0.7532898153577532}}}\u001b[0m\n",
      "\u001b[34m#metrics {\"StartTime\": 1700509807.19761, \"EndTime\": 1700509807.19763, \"Dimensions\": {\"Algorithm\": \"Linear Learner\", \"Host\": \"algo-1\", \"Operation\": \"training\", \"epoch\": 0, \"model\": 4}, \"Metrics\": {\"train_absolute_loss_objective\": {\"sum\": 0.7487687587738037, \"count\": 1, \"min\": 0.7487687587738037, \"max\": 0.7487687587738037}}}\u001b[0m\n",
      "\u001b[34m#metrics {\"StartTime\": 1700509807.1976893, \"EndTime\": 1700509807.1977067, \"Dimensions\": {\"Algorithm\": \"Linear Learner\", \"Host\": \"algo-1\", \"Operation\": \"training\", \"epoch\": 0, \"model\": 5}, \"Metrics\": {\"train_absolute_loss_objective\": {\"sum\": 0.7449819343430656, \"count\": 1, \"min\": 0.7449819343430656, \"max\": 0.7449819343430656}}}\u001b[0m\n",
      "\u001b[34m#metrics {\"StartTime\": 1700509807.1977658, \"EndTime\": 1700509807.1977835, \"Dimensions\": {\"Algorithm\": \"Linear Learner\", \"Host\": \"algo-1\", \"Operation\": \"training\", \"epoch\": 0, \"model\": 6}, \"Metrics\": {\"train_absolute_loss_objective\": {\"sum\": 0.7541702900614057, \"count\": 1, \"min\": 0.7541702900614057, \"max\": 0.7541702900614057}}}\u001b[0m\n",
      "\u001b[34m#metrics {\"StartTime\": 1700509807.1978376, \"EndTime\": 1700509807.1978543, \"Dimensions\": {\"Algorithm\": \"Linear Learner\", \"Host\": \"algo-1\", \"Operation\": \"training\", \"epoch\": 0, \"model\": 7}, \"Metrics\": {\"train_absolute_loss_objective\": {\"sum\": 0.779533542905535, \"count\": 1, \"min\": 0.779533542905535, \"max\": 0.779533542905535}}}\u001b[0m\n",
      "\u001b[34m#metrics {\"StartTime\": 1700509807.1979048, \"EndTime\": 1700509807.1979215, \"Dimensions\": {\"Algorithm\": \"Linear Learner\", \"Host\": \"algo-1\", \"Operation\": \"training\", \"epoch\": 0, \"model\": 8}, \"Metrics\": {\"train_absolute_loss_objective\": {\"sum\": 0.7214857578277588, \"count\": 1, \"min\": 0.7214857578277588, \"max\": 0.7214857578277588}}}\u001b[0m\n",
      "\u001b[34m#metrics {\"StartTime\": 1700509807.1979775, \"EndTime\": 1700509807.1980395, \"Dimensions\": {\"Algorithm\": \"Linear Learner\", \"Host\": \"algo-1\", \"Operation\": \"training\", \"epoch\": 0, \"model\": 9}, \"Metrics\": {\"train_absolute_loss_objective\": {\"sum\": 0.7798654556274414, \"count\": 1, \"min\": 0.7798654556274414, \"max\": 0.7798654556274414}}}\u001b[0m\n",
      "\u001b[34m#metrics {\"StartTime\": 1700509807.1980972, \"EndTime\": 1700509807.1981158, \"Dimensions\": {\"Algorithm\": \"Linear Learner\", \"Host\": \"algo-1\", \"Operation\": \"training\", \"epoch\": 0, \"model\": 10}, \"Metrics\": {\"train_absolute_loss_objective\": {\"sum\": 0.7741089139665877, \"count\": 1, \"min\": 0.7741089139665877, \"max\": 0.7741089139665877}}}\u001b[0m\n",
      "\u001b[34m#metrics {\"StartTime\": 1700509807.198178, \"EndTime\": 1700509807.1981957, \"Dimensions\": {\"Algorithm\": \"Linear Learner\", \"Host\": \"algo-1\", \"Operation\": \"training\", \"epoch\": 0, \"model\": 11}, \"Metrics\": {\"train_absolute_loss_objective\": {\"sum\": 0.7868390968867711, \"count\": 1, \"min\": 0.7868390968867711, \"max\": 0.7868390968867711}}}\u001b[0m\n",
      "\u001b[34m#metrics {\"StartTime\": 1700509807.1982496, \"EndTime\": 1700509807.1982658, \"Dimensions\": {\"Algorithm\": \"Linear Learner\", \"Host\": \"algo-1\", \"Operation\": \"training\", \"epoch\": 0, \"model\": 12}, \"Metrics\": {\"train_absolute_loss_objective\": {\"sum\": 0.7451130305017744, \"count\": 1, \"min\": 0.7451130305017744, \"max\": 0.7451130305017744}}}\u001b[0m\n",
      "\u001b[34m#metrics {\"StartTime\": 1700509807.1983216, \"EndTime\": 1700509807.1983397, \"Dimensions\": {\"Algorithm\": \"Linear Learner\", \"Host\": \"algo-1\", \"Operation\": \"training\", \"epoch\": 0, \"model\": 13}, \"Metrics\": {\"train_absolute_loss_objective\": {\"sum\": 0.7898327384676253, \"count\": 1, \"min\": 0.7898327384676253, \"max\": 0.7898327384676253}}}\u001b[0m\n",
      "\u001b[34m#metrics {\"StartTime\": 1700509807.1983943, \"EndTime\": 1700509807.1984115, \"Dimensions\": {\"Algorithm\": \"Linear Learner\", \"Host\": \"algo-1\", \"Operation\": \"training\", \"epoch\": 0, \"model\": 14}, \"Metrics\": {\"train_absolute_loss_objective\": {\"sum\": 0.7457087550844465, \"count\": 1, \"min\": 0.7457087550844465, \"max\": 0.7457087550844465}}}\u001b[0m\n",
      "\u001b[34m#metrics {\"StartTime\": 1700509807.198463, \"EndTime\": 1700509807.1984801, \"Dimensions\": {\"Algorithm\": \"Linear Learner\", \"Host\": \"algo-1\", \"Operation\": \"training\", \"epoch\": 0, \"model\": 15}, \"Metrics\": {\"train_absolute_loss_objective\": {\"sum\": 0.7875486969947815, \"count\": 1, \"min\": 0.7875486969947815, \"max\": 0.7875486969947815}}}\u001b[0m\n",
      "\u001b[34m#metrics {\"StartTime\": 1700509807.1985366, \"EndTime\": 1700509807.1985521, \"Dimensions\": {\"Algorithm\": \"Linear Learner\", \"Host\": \"algo-1\", \"Operation\": \"training\", \"epoch\": 0, \"model\": 16}, \"Metrics\": {\"train_absolute_loss_objective\": {\"sum\": 0.8005702393395561, \"count\": 1, \"min\": 0.8005702393395561, \"max\": 0.8005702393395561}}}\u001b[0m\n",
      "\u001b[34m#metrics {\"StartTime\": 1700509807.1985993, \"EndTime\": 1700509807.198615, \"Dimensions\": {\"Algorithm\": \"Linear Learner\", \"Host\": \"algo-1\", \"Operation\": \"training\", \"epoch\": 0, \"model\": 17}, \"Metrics\": {\"train_absolute_loss_objective\": {\"sum\": 0.7565873214176723, \"count\": 1, \"min\": 0.7565873214176723, \"max\": 0.7565873214176723}}}\u001b[0m\n",
      "\u001b[34m#metrics {\"StartTime\": 1700509807.1986678, \"EndTime\": 1700509807.1986852, \"Dimensions\": {\"Algorithm\": \"Linear Learner\", \"Host\": \"algo-1\", \"Operation\": \"training\", \"epoch\": 0, \"model\": 18}, \"Metrics\": {\"train_absolute_loss_objective\": {\"sum\": 0.7773421730313982, \"count\": 1, \"min\": 0.7773421730313982, \"max\": 0.7773421730313982}}}\u001b[0m\n",
      "\u001b[34m#metrics {\"StartTime\": 1700509807.1987846, \"EndTime\": 1700509807.1988018, \"Dimensions\": {\"Algorithm\": \"Linear Learner\", \"Host\": \"algo-1\", \"Operation\": \"training\", \"epoch\": 0, \"model\": 19}, \"Metrics\": {\"train_absolute_loss_objective\": {\"sum\": 0.779660279410226, \"count\": 1, \"min\": 0.779660279410226, \"max\": 0.779660279410226}}}\u001b[0m\n",
      "\u001b[34m#metrics {\"StartTime\": 1700509807.198847, \"EndTime\": 1700509807.19886, \"Dimensions\": {\"Algorithm\": \"Linear Learner\", \"Host\": \"algo-1\", \"Operation\": \"training\", \"epoch\": 0, \"model\": 20}, \"Metrics\": {\"train_absolute_loss_objective\": {\"sum\": 0.7565552132470267, \"count\": 1, \"min\": 0.7565552132470267, \"max\": 0.7565552132470267}}}\u001b[0m\n",
      "\u001b[34m#metrics {\"StartTime\": 1700509807.1989026, \"EndTime\": 1700509807.1989152, \"Dimensions\": {\"Algorithm\": \"Linear Learner\", \"Host\": \"algo-1\", \"Operation\": \"training\", \"epoch\": 0, \"model\": 21}, \"Metrics\": {\"train_absolute_loss_objective\": {\"sum\": 0.7282450710024152, \"count\": 1, \"min\": 0.7282450710024152, \"max\": 0.7282450710024152}}}\u001b[0m\n",
      "\u001b[34m#metrics {\"StartTime\": 1700509807.1989584, \"EndTime\": 1700509807.198973, \"Dimensions\": {\"Algorithm\": \"Linear Learner\", \"Host\": \"algo-1\", \"Operation\": \"training\", \"epoch\": 0, \"model\": 22}, \"Metrics\": {\"train_absolute_loss_objective\": {\"sum\": 0.7333392262458801, \"count\": 1, \"min\": 0.7333392262458801, \"max\": 0.7333392262458801}}}\u001b[0m\n",
      "\u001b[34m#metrics {\"StartTime\": 1700509807.1990242, \"EndTime\": 1700509807.1990414, \"Dimensions\": {\"Algorithm\": \"Linear Learner\", \"Host\": \"algo-1\", \"Operation\": \"training\", \"epoch\": 0, \"model\": 23}, \"Metrics\": {\"train_absolute_loss_objective\": {\"sum\": 0.719313086782183, \"count\": 1, \"min\": 0.719313086782183, \"max\": 0.719313086782183}}}\u001b[0m\n",
      "\u001b[34m#metrics {\"StartTime\": 1700509807.1990902, \"EndTime\": 1700509807.1991048, \"Dimensions\": {\"Algorithm\": \"Linear Learner\", \"Host\": \"algo-1\", \"Operation\": \"training\", \"epoch\": 0, \"model\": 24}, \"Metrics\": {\"train_absolute_loss_objective\": {\"sum\": 0.8126648664474487, \"count\": 1, \"min\": 0.8126648664474487, \"max\": 0.8126648664474487}}}\u001b[0m\n",
      "\u001b[34m#metrics {\"StartTime\": 1700509807.1991546, \"EndTime\": 1700509807.1991713, \"Dimensions\": {\"Algorithm\": \"Linear Learner\", \"Host\": \"algo-1\", \"Operation\": \"training\", \"epoch\": 0, \"model\": 25}, \"Metrics\": {\"train_absolute_loss_objective\": {\"sum\": 0.7787442990711757, \"count\": 1, \"min\": 0.7787442990711757, \"max\": 0.7787442990711757}}}\u001b[0m\n",
      "\u001b[34m#metrics {\"StartTime\": 1700509807.1992195, \"EndTime\": 1700509807.199233, \"Dimensions\": {\"Algorithm\": \"Linear Learner\", \"Host\": \"algo-1\", \"Operation\": \"training\", \"epoch\": 0, \"model\": 26}, \"Metrics\": {\"train_absolute_loss_objective\": {\"sum\": 0.7806341648101807, \"count\": 1, \"min\": 0.7806341648101807, \"max\": 0.7806341648101807}}}\u001b[0m\n",
      "\u001b[34m#metrics {\"StartTime\": 1700509807.199276, \"EndTime\": 1700509807.1992898, \"Dimensions\": {\"Algorithm\": \"Linear Learner\", \"Host\": \"algo-1\", \"Operation\": \"training\", \"epoch\": 0, \"model\": 27}, \"Metrics\": {\"train_absolute_loss_objective\": {\"sum\": 0.7804988350187029, \"count\": 1, \"min\": 0.7804988350187029, \"max\": 0.7804988350187029}}}\u001b[0m\n",
      "\u001b[34m#metrics {\"StartTime\": 1700509807.199333, \"EndTime\": 1700509807.199347, \"Dimensions\": {\"Algorithm\": \"Linear Learner\", \"Host\": \"algo-1\", \"Operation\": \"training\", \"epoch\": 0, \"model\": 28}, \"Metrics\": {\"train_absolute_loss_objective\": {\"sum\": 0.8929918731961931, \"count\": 1, \"min\": 0.8929918731961931, \"max\": 0.8929918731961931}}}\u001b[0m\n",
      "\u001b[34m#metrics {\"StartTime\": 1700509807.1993895, \"EndTime\": 1700509807.1994023, \"Dimensions\": {\"Algorithm\": \"Linear Learner\", \"Host\": \"algo-1\", \"Operation\": \"training\", \"epoch\": 0, \"model\": 29}, \"Metrics\": {\"train_absolute_loss_objective\": {\"sum\": 0.8925215142113821, \"count\": 1, \"min\": 0.8925215142113821, \"max\": 0.8925215142113821}}}\u001b[0m\n",
      "\u001b[34m#metrics {\"StartTime\": 1700509807.1994448, \"EndTime\": 1700509807.199457, \"Dimensions\": {\"Algorithm\": \"Linear Learner\", \"Host\": \"algo-1\", \"Operation\": \"training\", \"epoch\": 0, \"model\": 30}, \"Metrics\": {\"train_absolute_loss_objective\": {\"sum\": 0.8926719052450998, \"count\": 1, \"min\": 0.8926719052450998, \"max\": 0.8926719052450998}}}\u001b[0m\n",
      "\u001b[34m#metrics {\"StartTime\": 1700509807.1995027, \"EndTime\": 1700509807.199516, \"Dimensions\": {\"Algorithm\": \"Linear Learner\", \"Host\": \"algo-1\", \"Operation\": \"training\", \"epoch\": 0, \"model\": 31}, \"Metrics\": {\"train_absolute_loss_objective\": {\"sum\": 0.8948797634669713, \"count\": 1, \"min\": 0.8948797634669713, \"max\": 0.8948797634669713}}}\u001b[0m\n",
      "\u001b[34m[11/20/2023 19:50:07 INFO 140698178795328] #quality_metric: host=algo-1, epoch=0, train absolute_loss_objective <loss>=0.7695266587393624\u001b[0m\n",
      "\u001b[34m[11/20/2023 19:50:07 INFO 140698178795328] #early_stopping_criteria_metric: host=algo-1, epoch=0, criteria=absolute_loss_objective, value=0.719313086782183\u001b[0m\n",
      "\u001b[34m[11/20/2023 19:50:07 INFO 140698178795328] Epoch 0: Loss improved. Updating best model\u001b[0m\n",
      "\u001b[34m[11/20/2023 19:50:07 INFO 140698178795328] Saving model for epoch: 0\u001b[0m\n",
      "\u001b[34m[11/20/2023 19:50:07 INFO 140698178795328] Saved checkpoint to \"/tmp/tmp3xwlptde/mx-mod-0000.params\"\u001b[0m\n",
      "\u001b[34m[11/20/2023 19:50:07 INFO 140698178795328] #progress_metric: host=algo-1, completed 20.0 % of epochs\u001b[0m\n",
      "\u001b[34m#metrics {\"StartTime\": 1700509806.8439813, \"EndTime\": 1700509807.2138011, \"Dimensions\": {\"Algorithm\": \"Linear Learner\", \"Host\": \"algo-1\", \"Operation\": \"training\", \"epoch\": 0, \"Meta\": \"training_data_iter\"}, \"Metrics\": {\"Total Records Seen\": {\"sum\": 145.0, \"count\": 1, \"min\": 145, \"max\": 145}, \"Total Batches Seen\": {\"sum\": 29.0, \"count\": 1, \"min\": 29, \"max\": 29}, \"Max Records Seen Between Resets\": {\"sum\": 70.0, \"count\": 1, \"min\": 70, \"max\": 70}, \"Max Batches Seen Between Resets\": {\"sum\": 14.0, \"count\": 1, \"min\": 14, \"max\": 14}, \"Reset Count\": {\"sum\": 3.0, \"count\": 1, \"min\": 3, \"max\": 3}, \"Number of Records Since Last Reset\": {\"sum\": 70.0, \"count\": 1, \"min\": 70, \"max\": 70}, \"Number of Batches Since Last Reset\": {\"sum\": 14.0, \"count\": 1, \"min\": 14, \"max\": 14}}}\u001b[0m\n",
      "\u001b[34m[11/20/2023 19:50:07 INFO 140698178795328] #throughput_metric: host=algo-1, train throughput=189.1905887113767 records/second\u001b[0m\n",
      "\u001b[34m[2023-11-20 19:50:07.537] [tensorio] [info] epoch_stats={\"data_pipeline\": \"/opt/ml/input/data/train\", \"epoch\": 6, \"duration\": 323, \"num_examples\": 14, \"num_bytes\": 3360}\u001b[0m\n",
      "\u001b[34m#metrics {\"StartTime\": 1700509807.537898, \"EndTime\": 1700509807.537994, \"Dimensions\": {\"Algorithm\": \"Linear Learner\", \"Host\": \"algo-1\", \"Operation\": \"training\", \"epoch\": 1, \"model\": 0}, \"Metrics\": {\"train_absolute_loss_objective\": {\"sum\": 0.7049999407359532, \"count\": 1, \"min\": 0.7049999407359532, \"max\": 0.7049999407359532}}}\u001b[0m\n",
      "\u001b[34m#metrics {\"StartTime\": 1700509807.5381, \"EndTime\": 1700509807.5381243, \"Dimensions\": {\"Algorithm\": \"Linear Learner\", \"Host\": \"algo-1\", \"Operation\": \"training\", \"epoch\": 1, \"model\": 1}, \"Metrics\": {\"train_absolute_loss_objective\": {\"sum\": 0.6888099806649345, \"count\": 1, \"min\": 0.6888099806649345, \"max\": 0.6888099806649345}}}\u001b[0m\n",
      "\u001b[34m#metrics {\"StartTime\": 1700509807.5381873, \"EndTime\": 1700509807.5382051, \"Dimensions\": {\"Algorithm\": \"Linear Learner\", \"Host\": \"algo-1\", \"Operation\": \"training\", \"epoch\": 1, \"model\": 2}, \"Metrics\": {\"train_absolute_loss_objective\": {\"sum\": 0.7030630997249059, \"count\": 1, \"min\": 0.7030630997249059, \"max\": 0.7030630997249059}}}\u001b[0m\n",
      "\u001b[34m#metrics {\"StartTime\": 1700509807.53827, \"EndTime\": 1700509807.5382884, \"Dimensions\": {\"Algorithm\": \"Linear Learner\", \"Host\": \"algo-1\", \"Operation\": \"training\", \"epoch\": 1, \"model\": 3}, \"Metrics\": {\"train_absolute_loss_objective\": {\"sum\": 0.6896270820072719, \"count\": 1, \"min\": 0.6896270820072719, \"max\": 0.6896270820072719}}}\u001b[0m\n",
      "\u001b[34m#metrics {\"StartTime\": 1700509807.5383577, \"EndTime\": 1700509807.538377, \"Dimensions\": {\"Algorithm\": \"Linear Learner\", \"Host\": \"algo-1\", \"Operation\": \"training\", \"epoch\": 1, \"model\": 4}, \"Metrics\": {\"train_absolute_loss_objective\": {\"sum\": 0.2927565847124372, \"count\": 1, \"min\": 0.2927565847124372, \"max\": 0.2927565847124372}}}\u001b[0m\n",
      "\u001b[34m#metrics {\"StartTime\": 1700509807.5384336, \"EndTime\": 1700509807.5384502, \"Dimensions\": {\"Algorithm\": \"Linear Learner\", \"Host\": \"algo-1\", \"Operation\": \"training\", \"epoch\": 1, \"model\": 5}, \"Metrics\": {\"train_absolute_loss_objective\": {\"sum\": 0.283800516809736, \"count\": 1, \"min\": 0.283800516809736, \"max\": 0.283800516809736}}}\u001b[0m\n",
      "\u001b[34m#metrics {\"StartTime\": 1700509807.5385149, \"EndTime\": 1700509807.538532, \"Dimensions\": {\"Algorithm\": \"Linear Learner\", \"Host\": \"algo-1\", \"Operation\": \"training\", \"epoch\": 1, \"model\": 6}, \"Metrics\": {\"train_absolute_loss_objective\": {\"sum\": 0.3163491215024676, \"count\": 1, \"min\": 0.3163491215024676, \"max\": 0.3163491215024676}}}\u001b[0m\n",
      "\u001b[34m#metrics {\"StartTime\": 1700509807.5386035, \"EndTime\": 1700509807.538622, \"Dimensions\": {\"Algorithm\": \"Linear Learner\", \"Host\": \"algo-1\", \"Operation\": \"training\", \"epoch\": 1, \"model\": 7}, \"Metrics\": {\"train_absolute_loss_objective\": {\"sum\": 0.47477616242000037, \"count\": 1, \"min\": 0.47477616242000037, \"max\": 0.47477616242000037}}}\u001b[0m\n",
      "\u001b[34m#metrics {\"StartTime\": 1700509807.538688, \"EndTime\": 1700509807.5387025, \"Dimensions\": {\"Algorithm\": \"Linear Learner\", \"Host\": \"algo-1\", \"Operation\": \"training\", \"epoch\": 1, \"model\": 8}, \"Metrics\": {\"train_absolute_loss_objective\": {\"sum\": 0.6605536426816668, \"count\": 1, \"min\": 0.6605536426816668, \"max\": 0.6605536426816668}}}\u001b[0m\n",
      "\u001b[34m#metrics {\"StartTime\": 1700509807.538757, \"EndTime\": 1700509807.5387733, \"Dimensions\": {\"Algorithm\": \"Linear Learner\", \"Host\": \"algo-1\", \"Operation\": \"training\", \"epoch\": 1, \"model\": 9}, \"Metrics\": {\"train_absolute_loss_objective\": {\"sum\": 0.7157814638955252, \"count\": 1, \"min\": 0.7157814638955252, \"max\": 0.7157814638955252}}}\u001b[0m\n",
      "\u001b[34m#metrics {\"StartTime\": 1700509807.5388358, \"EndTime\": 1700509807.5388541, \"Dimensions\": {\"Algorithm\": \"Linear Learner\", \"Host\": \"algo-1\", \"Operation\": \"training\", \"epoch\": 1, \"model\": 10}, \"Metrics\": {\"train_absolute_loss_objective\": {\"sum\": 0.709289060320173, \"count\": 1, \"min\": 0.709289060320173, \"max\": 0.709289060320173}}}\u001b[0m\n",
      "\u001b[34m#metrics {\"StartTime\": 1700509807.5389206, \"EndTime\": 1700509807.5389385, \"Dimensions\": {\"Algorithm\": \"Linear Learner\", \"Host\": \"algo-1\", \"Operation\": \"training\", \"epoch\": 1, \"model\": 11}, \"Metrics\": {\"train_absolute_loss_objective\": {\"sum\": 0.7223836490086146, \"count\": 1, \"min\": 0.7223836490086146, \"max\": 0.7223836490086146}}}\u001b[0m\n",
      "\u001b[34m#metrics {\"StartTime\": 1700509807.5389862, \"EndTime\": 1700509807.5390022, \"Dimensions\": {\"Algorithm\": \"Linear Learner\", \"Host\": \"algo-1\", \"Operation\": \"training\", \"epoch\": 1, \"model\": 12}, \"Metrics\": {\"train_absolute_loss_objective\": {\"sum\": 0.29188561524663653, \"count\": 1, \"min\": 0.29188561524663653, \"max\": 0.29188561524663653}}}\u001b[0m\n",
      "\u001b[34m#metrics {\"StartTime\": 1700509807.5390532, \"EndTime\": 1700509807.5390685, \"Dimensions\": {\"Algorithm\": \"Linear Learner\", \"Host\": \"algo-1\", \"Operation\": \"training\", \"epoch\": 1, \"model\": 13}, \"Metrics\": {\"train_absolute_loss_objective\": {\"sum\": 0.46776956745556425, \"count\": 1, \"min\": 0.46776956745556425, \"max\": 0.46776956745556425}}}\u001b[0m\n",
      "\u001b[34m#metrics {\"StartTime\": 1700509807.5391355, \"EndTime\": 1700509807.53915, \"Dimensions\": {\"Algorithm\": \"Linear Learner\", \"Host\": \"algo-1\", \"Operation\": \"training\", \"epoch\": 1, \"model\": 14}, \"Metrics\": {\"train_absolute_loss_objective\": {\"sum\": 0.291479275056294, \"count\": 1, \"min\": 0.291479275056294, \"max\": 0.291479275056294}}}\u001b[0m\n",
      "\u001b[34m#metrics {\"StartTime\": 1700509807.5392153, \"EndTime\": 1700509807.5392323, \"Dimensions\": {\"Algorithm\": \"Linear Learner\", \"Host\": \"algo-1\", \"Operation\": \"training\", \"epoch\": 1, \"model\": 15}, \"Metrics\": {\"train_absolute_loss_objective\": {\"sum\": 0.4689066222735814, \"count\": 1, \"min\": 0.4689066222735814, \"max\": 0.4689066222735814}}}\u001b[0m\n",
      "\u001b[34m#metrics {\"StartTime\": 1700509807.539299, \"EndTime\": 1700509807.5393112, \"Dimensions\": {\"Algorithm\": \"Linear Learner\", \"Host\": \"algo-1\", \"Operation\": \"training\", \"epoch\": 1, \"model\": 16}, \"Metrics\": {\"train_absolute_loss_objective\": {\"sum\": 0.7364029577800206, \"count\": 1, \"min\": 0.7364029577800206, \"max\": 0.7364029577800206}}}\u001b[0m\n",
      "\u001b[34m#metrics {\"StartTime\": 1700509807.539375, \"EndTime\": 1700509807.5393913, \"Dimensions\": {\"Algorithm\": \"Linear Learner\", \"Host\": \"algo-1\", \"Operation\": \"training\", \"epoch\": 1, \"model\": 17}, \"Metrics\": {\"train_absolute_loss_objective\": {\"sum\": 0.6937125478472028, \"count\": 1, \"min\": 0.6937125478472028, \"max\": 0.6937125478472028}}}\u001b[0m\n",
      "\u001b[34m#metrics {\"StartTime\": 1700509807.539445, \"EndTime\": 1700509807.5394573, \"Dimensions\": {\"Algorithm\": \"Linear Learner\", \"Host\": \"algo-1\", \"Operation\": \"training\", \"epoch\": 1, \"model\": 18}, \"Metrics\": {\"train_absolute_loss_objective\": {\"sum\": 0.7143230336053031, \"count\": 1, \"min\": 0.7143230336053031, \"max\": 0.7143230336053031}}}\u001b[0m\n",
      "\u001b[34m#metrics {\"StartTime\": 1700509807.5395174, \"EndTime\": 1700509807.5395358, \"Dimensions\": {\"Algorithm\": \"Linear Learner\", \"Host\": \"algo-1\", \"Operation\": \"training\", \"epoch\": 1, \"model\": 19}, \"Metrics\": {\"train_absolute_loss_objective\": {\"sum\": 0.7163050753729684, \"count\": 1, \"min\": 0.7163050753729684, \"max\": 0.7163050753729684}}}\u001b[0m\n",
      "\u001b[34m#metrics {\"StartTime\": 1700509807.5395956, \"EndTime\": 1700509807.5396125, \"Dimensions\": {\"Algorithm\": \"Linear Learner\", \"Host\": \"algo-1\", \"Operation\": \"training\", \"epoch\": 1, \"model\": 20}, \"Metrics\": {\"train_absolute_loss_objective\": {\"sum\": 0.6403685297284808, \"count\": 1, \"min\": 0.6403685297284808, \"max\": 0.6403685297284808}}}\u001b[0m\n",
      "\u001b[34m#metrics {\"StartTime\": 1700509807.5396764, \"EndTime\": 1700509807.5396936, \"Dimensions\": {\"Algorithm\": \"Linear Learner\", \"Host\": \"algo-1\", \"Operation\": \"training\", \"epoch\": 1, \"model\": 21}, \"Metrics\": {\"train_absolute_loss_objective\": {\"sum\": 0.6292726533753531, \"count\": 1, \"min\": 0.6292726533753531, \"max\": 0.6292726533753531}}}\u001b[0m\n",
      "\u001b[34m#metrics {\"StartTime\": 1700509807.5397632, \"EndTime\": 1700509807.5397809, \"Dimensions\": {\"Algorithm\": \"Linear Learner\", \"Host\": \"algo-1\", \"Operation\": \"training\", \"epoch\": 1, \"model\": 22}, \"Metrics\": {\"train_absolute_loss_objective\": {\"sum\": 0.5259399465152196, \"count\": 1, \"min\": 0.5259399465152196, \"max\": 0.5259399465152196}}}\u001b[0m\n",
      "\u001b[34m#metrics {\"StartTime\": 1700509807.5398498, \"EndTime\": 1700509807.5398672, \"Dimensions\": {\"Algorithm\": \"Linear Learner\", \"Host\": \"algo-1\", \"Operation\": \"training\", \"epoch\": 1, \"model\": 23}, \"Metrics\": {\"train_absolute_loss_objective\": {\"sum\": 0.5565911156790597, \"count\": 1, \"min\": 0.5565911156790597, \"max\": 0.5565911156790597}}}\u001b[0m\n",
      "\u001b[34m#metrics {\"StartTime\": 1700509807.539932, \"EndTime\": 1700509807.539949, \"Dimensions\": {\"Algorithm\": \"Linear Learner\", \"Host\": \"algo-1\", \"Operation\": \"training\", \"epoch\": 1, \"model\": 24}, \"Metrics\": {\"train_absolute_loss_objective\": {\"sum\": 0.7606978859220233, \"count\": 1, \"min\": 0.7606978859220233, \"max\": 0.7606978859220233}}}\u001b[0m\n",
      "\u001b[34m#metrics {\"StartTime\": 1700509807.5400069, \"EndTime\": 1700509807.540023, \"Dimensions\": {\"Algorithm\": \"Linear Learner\", \"Host\": \"algo-1\", \"Operation\": \"training\", \"epoch\": 1, \"model\": 25}, \"Metrics\": {\"train_absolute_loss_objective\": {\"sum\": 0.7655046122414725, \"count\": 1, \"min\": 0.7655046122414725, \"max\": 0.7655046122414725}}}\u001b[0m\n",
      "\u001b[34m#metrics {\"StartTime\": 1700509807.5400753, \"EndTime\": 1700509807.540091, \"Dimensions\": {\"Algorithm\": \"Linear Learner\", \"Host\": \"algo-1\", \"Operation\": \"training\", \"epoch\": 1, \"model\": 26}, \"Metrics\": {\"train_absolute_loss_objective\": {\"sum\": 0.7653398207255773, \"count\": 1, \"min\": 0.7653398207255773, \"max\": 0.7653398207255773}}}\u001b[0m\n",
      "\u001b[34m#metrics {\"StartTime\": 1700509807.5401318, \"EndTime\": 1700509807.5401475, \"Dimensions\": {\"Algorithm\": \"Linear Learner\", \"Host\": \"algo-1\", \"Operation\": \"training\", \"epoch\": 1, \"model\": 27}, \"Metrics\": {\"train_absolute_loss_objective\": {\"sum\": 0.763897636958531, \"count\": 1, \"min\": 0.763897636958531, \"max\": 0.763897636958531}}}\u001b[0m\n",
      "\u001b[34m#metrics {\"StartTime\": 1700509807.5401905, \"EndTime\": 1700509807.5402064, \"Dimensions\": {\"Algorithm\": \"Linear Learner\", \"Host\": \"algo-1\", \"Operation\": \"training\", \"epoch\": 1, \"model\": 28}, \"Metrics\": {\"train_absolute_loss_objective\": {\"sum\": 0.8446389164243425, \"count\": 1, \"min\": 0.8446389164243425, \"max\": 0.8446389164243425}}}\u001b[0m\n",
      "\u001b[34m#metrics {\"StartTime\": 1700509807.5402663, \"EndTime\": 1700509807.5402815, \"Dimensions\": {\"Algorithm\": \"Linear Learner\", \"Host\": \"algo-1\", \"Operation\": \"training\", \"epoch\": 1, \"model\": 29}, \"Metrics\": {\"train_absolute_loss_objective\": {\"sum\": 0.9236137662615095, \"count\": 1, \"min\": 0.9236137662615095, \"max\": 0.9236137662615095}}}\u001b[0m\n",
      "\u001b[34m#metrics {\"StartTime\": 1700509807.5403452, \"EndTime\": 1700509807.5403628, \"Dimensions\": {\"Algorithm\": \"Linear Learner\", \"Host\": \"algo-1\", \"Operation\": \"training\", \"epoch\": 1, \"model\": 30}, \"Metrics\": {\"train_absolute_loss_objective\": {\"sum\": 0.9237002202442715, \"count\": 1, \"min\": 0.9237002202442715, \"max\": 0.9237002202442715}}}\u001b[0m\n",
      "\u001b[34m#metrics {\"StartTime\": 1700509807.5404263, \"EndTime\": 1700509807.540444, \"Dimensions\": {\"Algorithm\": \"Linear Learner\", \"Host\": \"algo-1\", \"Operation\": \"training\", \"epoch\": 1, \"model\": 31}, \"Metrics\": {\"train_absolute_loss_objective\": {\"sum\": 0.925579285621643, \"count\": 1, \"min\": 0.925579285621643, \"max\": 0.925579285621643}}}\u001b[0m\n",
      "\u001b[34m[11/20/2023 19:50:07 INFO 140698178795328] #quality_metric: host=algo-1, epoch=1, train absolute_loss_objective <loss>=0.7049999407359532\u001b[0m\n",
      "\u001b[34m[11/20/2023 19:50:07 INFO 140698178795328] #early_stopping_criteria_metric: host=algo-1, epoch=1, criteria=absolute_loss_objective, value=0.283800516809736\u001b[0m\n",
      "\u001b[34m[11/20/2023 19:50:07 INFO 140698178795328] Epoch 1: Loss improved. Updating best model\u001b[0m\n",
      "\u001b[34m[11/20/2023 19:50:07 INFO 140698178795328] Saving model for epoch: 1\u001b[0m\n",
      "\u001b[34m[11/20/2023 19:50:07 INFO 140698178795328] Saved checkpoint to \"/tmp/tmpuso7usyn/mx-mod-0000.params\"\u001b[0m\n",
      "\u001b[34m[11/20/2023 19:50:07 INFO 140698178795328] #progress_metric: host=algo-1, completed 40.0 % of epochs\u001b[0m\n",
      "\u001b[34m#metrics {\"StartTime\": 1700509807.2141707, \"EndTime\": 1700509807.5512602, \"Dimensions\": {\"Algorithm\": \"Linear Learner\", \"Host\": \"algo-1\", \"Operation\": \"training\", \"epoch\": 1, \"Meta\": \"training_data_iter\"}, \"Metrics\": {\"Total Records Seen\": {\"sum\": 215.0, \"count\": 1, \"min\": 215, \"max\": 215}, \"Total Batches Seen\": {\"sum\": 43.0, \"count\": 1, \"min\": 43, \"max\": 43}, \"Max Records Seen Between Resets\": {\"sum\": 70.0, \"count\": 1, \"min\": 70, \"max\": 70}, \"Max Batches Seen Between Resets\": {\"sum\": 14.0, \"count\": 1, \"min\": 14, \"max\": 14}, \"Reset Count\": {\"sum\": 4.0, \"count\": 1, \"min\": 4, \"max\": 4}, \"Number of Records Since Last Reset\": {\"sum\": 70.0, \"count\": 1, \"min\": 70, \"max\": 70}, \"Number of Batches Since Last Reset\": {\"sum\": 14.0, \"count\": 1, \"min\": 14, \"max\": 14}}}\u001b[0m\n",
      "\u001b[34m[11/20/2023 19:50:07 INFO 140698178795328] #throughput_metric: host=algo-1, train throughput=207.56336098476226 records/second\u001b[0m\n",
      "\u001b[34m[2023-11-20 19:50:07.879] [tensorio] [info] epoch_stats={\"data_pipeline\": \"/opt/ml/input/data/train\", \"epoch\": 8, \"duration\": 327, \"num_examples\": 14, \"num_bytes\": 3360}\u001b[0m\n",
      "\u001b[34m#metrics {\"StartTime\": 1700509807.879349, \"EndTime\": 1700509807.8794534, \"Dimensions\": {\"Algorithm\": \"Linear Learner\", \"Host\": \"algo-1\", \"Operation\": \"training\", \"epoch\": 2, \"model\": 0}, \"Metrics\": {\"train_absolute_loss_objective\": {\"sum\": 0.6670218501772199, \"count\": 1, \"min\": 0.6670218501772199, \"max\": 0.6670218501772199}}}\u001b[0m\n",
      "\u001b[34m#metrics {\"StartTime\": 1700509807.879578, \"EndTime\": 1700509807.8796031, \"Dimensions\": {\"Algorithm\": \"Linear Learner\", \"Host\": \"algo-1\", \"Operation\": \"training\", \"epoch\": 2, \"model\": 1}, \"Metrics\": {\"train_absolute_loss_objective\": {\"sum\": 0.6493470907211304, \"count\": 1, \"min\": 0.6493470907211304, \"max\": 0.6493470907211304}}}\u001b[0m\n",
      "\u001b[34m#metrics {\"StartTime\": 1700509807.8796668, \"EndTime\": 1700509807.8796837, \"Dimensions\": {\"Algorithm\": \"Linear Learner\", \"Host\": \"algo-1\", \"Operation\": \"training\", \"epoch\": 2, \"model\": 2}, \"Metrics\": {\"train_absolute_loss_objective\": {\"sum\": 0.6650087424686977, \"count\": 1, \"min\": 0.6650087424686977, \"max\": 0.6650087424686977}}}\u001b[0m\n",
      "\u001b[34m#metrics {\"StartTime\": 1700509807.8797538, \"EndTime\": 1700509807.8797734, \"Dimensions\": {\"Algorithm\": \"Linear Learner\", \"Host\": \"algo-1\", \"Operation\": \"training\", \"epoch\": 2, \"model\": 3}, \"Metrics\": {\"train_absolute_loss_objective\": {\"sum\": 0.6501963342939104, \"count\": 1, \"min\": 0.6501963342939104, \"max\": 0.6501963342939104}}}\u001b[0m\n",
      "\u001b[34m#metrics {\"StartTime\": 1700509807.879845, \"EndTime\": 1700509807.8798625, \"Dimensions\": {\"Algorithm\": \"Linear Learner\", \"Host\": \"algo-1\", \"Operation\": \"training\", \"epoch\": 2, \"model\": 4}, \"Metrics\": {\"train_absolute_loss_objective\": {\"sum\": 0.3396780516420092, \"count\": 1, \"min\": 0.3396780516420092, \"max\": 0.3396780516420092}}}\u001b[0m\n",
      "\u001b[34m#metrics {\"StartTime\": 1700509807.8799295, \"EndTime\": 1700509807.879947, \"Dimensions\": {\"Algorithm\": \"Linear Learner\", \"Host\": \"algo-1\", \"Operation\": \"training\", \"epoch\": 2, \"model\": 5}, \"Metrics\": {\"train_absolute_loss_objective\": {\"sum\": 0.38795430149350846, \"count\": 1, \"min\": 0.38795430149350846, \"max\": 0.38795430149350846}}}\u001b[0m\n",
      "\u001b[34m#metrics {\"StartTime\": 1700509807.8800147, \"EndTime\": 1700509807.8800323, \"Dimensions\": {\"Algorithm\": \"Linear Learner\", \"Host\": \"algo-1\", \"Operation\": \"training\", \"epoch\": 2, \"model\": 6}, \"Metrics\": {\"train_absolute_loss_objective\": {\"sum\": 0.3158690631389618, \"count\": 1, \"min\": 0.3158690631389618, \"max\": 0.3158690631389618}}}\u001b[0m\n",
      "\u001b[34m#metrics {\"StartTime\": 1700509807.8800848, \"EndTime\": 1700509807.8801017, \"Dimensions\": {\"Algorithm\": \"Linear Learner\", \"Host\": \"algo-1\", \"Operation\": \"training\", \"epoch\": 2, \"model\": 7}, \"Metrics\": {\"train_absolute_loss_objective\": {\"sum\": 0.3336173449243818, \"count\": 1, \"min\": 0.3336173449243818, \"max\": 0.3336173449243818}}}\u001b[0m\n",
      "\u001b[34m#metrics {\"StartTime\": 1700509807.8801718, \"EndTime\": 1700509807.88019, \"Dimensions\": {\"Algorithm\": \"Linear Learner\", \"Host\": \"algo-1\", \"Operation\": \"training\", \"epoch\": 2, \"model\": 8}, \"Metrics\": {\"train_absolute_loss_objective\": {\"sum\": 0.6196568352835519, \"count\": 1, \"min\": 0.6196568352835519, \"max\": 0.6196568352835519}}}\u001b[0m\n",
      "\u001b[34m#metrics {\"StartTime\": 1700509807.880244, \"EndTime\": 1700509807.880261, \"Dimensions\": {\"Algorithm\": \"Linear Learner\", \"Host\": \"algo-1\", \"Operation\": \"training\", \"epoch\": 2, \"model\": 9}, \"Metrics\": {\"train_absolute_loss_objective\": {\"sum\": 0.6722869941166469, \"count\": 1, \"min\": 0.6722869941166469, \"max\": 0.6722869941166469}}}\u001b[0m\n",
      "\u001b[34m#metrics {\"StartTime\": 1700509807.8803296, \"EndTime\": 1700509807.880348, \"Dimensions\": {\"Algorithm\": \"Linear Learner\", \"Host\": \"algo-1\", \"Operation\": \"training\", \"epoch\": 2, \"model\": 10}, \"Metrics\": {\"train_absolute_loss_objective\": {\"sum\": 0.6715029239654541, \"count\": 1, \"min\": 0.6715029239654541, \"max\": 0.6715029239654541}}}\u001b[0m\n",
      "\u001b[34m#metrics {\"StartTime\": 1700509807.880406, \"EndTime\": 1700509807.8804226, \"Dimensions\": {\"Algorithm\": \"Linear Learner\", \"Host\": \"algo-1\", \"Operation\": \"training\", \"epoch\": 2, \"model\": 11}, \"Metrics\": {\"train_absolute_loss_objective\": {\"sum\": 0.6787062338420323, \"count\": 1, \"min\": 0.6787062338420323, \"max\": 0.6787062338420323}}}\u001b[0m\n",
      "\u001b[34m#metrics {\"StartTime\": 1700509807.8804874, \"EndTime\": 1700509807.8805046, \"Dimensions\": {\"Algorithm\": \"Linear Learner\", \"Host\": \"algo-1\", \"Operation\": \"training\", \"epoch\": 2, \"model\": 12}, \"Metrics\": {\"train_absolute_loss_objective\": {\"sum\": 0.3472307852336339, \"count\": 1, \"min\": 0.3472307852336339, \"max\": 0.3472307852336339}}}\u001b[0m\n",
      "\u001b[34m#metrics {\"StartTime\": 1700509807.8805568, \"EndTime\": 1700509807.8805733, \"Dimensions\": {\"Algorithm\": \"Linear Learner\", \"Host\": \"algo-1\", \"Operation\": \"training\", \"epoch\": 2, \"model\": 13}, \"Metrics\": {\"train_absolute_loss_objective\": {\"sum\": 0.29476509009088786, \"count\": 1, \"min\": 0.29476509009088786, \"max\": 0.29476509009088786}}}\u001b[0m\n",
      "\u001b[34m#metrics {\"StartTime\": 1700509807.8806424, \"EndTime\": 1700509807.8806608, \"Dimensions\": {\"Algorithm\": \"Linear Learner\", \"Host\": \"algo-1\", \"Operation\": \"training\", \"epoch\": 2, \"model\": 14}, \"Metrics\": {\"train_absolute_loss_objective\": {\"sum\": 0.3475073303495135, \"count\": 1, \"min\": 0.3475073303495135, \"max\": 0.3475073303495135}}}\u001b[0m\n",
      "\u001b[34m#metrics {\"StartTime\": 1700509807.8807282, \"EndTime\": 1700509807.8807452, \"Dimensions\": {\"Algorithm\": \"Linear Learner\", \"Host\": \"algo-1\", \"Operation\": \"training\", \"epoch\": 2, \"model\": 15}, \"Metrics\": {\"train_absolute_loss_objective\": {\"sum\": 0.29393264906747, \"count\": 1, \"min\": 0.29393264906747, \"max\": 0.29393264906747}}}\u001b[0m\n",
      "\u001b[34m#metrics {\"StartTime\": 1700509807.8808382, \"EndTime\": 1700509807.8808558, \"Dimensions\": {\"Algorithm\": \"Linear Learner\", \"Host\": \"algo-1\", \"Operation\": \"training\", \"epoch\": 2, \"model\": 16}, \"Metrics\": {\"train_absolute_loss_objective\": {\"sum\": 0.69721360206604, \"count\": 1, \"min\": 0.69721360206604, \"max\": 0.69721360206604}}}\u001b[0m\n",
      "\u001b[34m#metrics {\"StartTime\": 1700509807.8809245, \"EndTime\": 1700509807.8809435, \"Dimensions\": {\"Algorithm\": \"Linear Learner\", \"Host\": \"algo-1\", \"Operation\": \"training\", \"epoch\": 2, \"model\": 17}, \"Metrics\": {\"train_absolute_loss_objective\": {\"sum\": 0.6573679924011231, \"count\": 1, \"min\": 0.6573679924011231, \"max\": 0.6573679924011231}}}\u001b[0m\n",
      "\u001b[34m#metrics {\"StartTime\": 1700509807.8810024, \"EndTime\": 1700509807.881019, \"Dimensions\": {\"Algorithm\": \"Linear Learner\", \"Host\": \"algo-1\", \"Operation\": \"training\", \"epoch\": 2, \"model\": 18}, \"Metrics\": {\"train_absolute_loss_objective\": {\"sum\": 0.6740893636431012, \"count\": 1, \"min\": 0.6740893636431012, \"max\": 0.6740893636431012}}}\u001b[0m\n",
      "\u001b[34m#metrics {\"StartTime\": 1700509807.8810713, \"EndTime\": 1700509807.881089, \"Dimensions\": {\"Algorithm\": \"Linear Learner\", \"Host\": \"algo-1\", \"Operation\": \"training\", \"epoch\": 2, \"model\": 19}, \"Metrics\": {\"train_absolute_loss_objective\": {\"sum\": 0.6751699379512242, \"count\": 1, \"min\": 0.6751699379512242, \"max\": 0.6751699379512242}}}\u001b[0m\n",
      "\u001b[34m#metrics {\"StartTime\": 1700509807.881158, \"EndTime\": 1700509807.8811755, \"Dimensions\": {\"Algorithm\": \"Linear Learner\", \"Host\": \"algo-1\", \"Operation\": \"training\", \"epoch\": 2, \"model\": 20}, \"Metrics\": {\"train_absolute_loss_objective\": {\"sum\": 0.5392161181994847, \"count\": 1, \"min\": 0.5392161181994847, \"max\": 0.5392161181994847}}}\u001b[0m\n",
      "\u001b[34m#metrics {\"StartTime\": 1700509807.881245, \"EndTime\": 1700509807.8812623, \"Dimensions\": {\"Algorithm\": \"Linear Learner\", \"Host\": \"algo-1\", \"Operation\": \"training\", \"epoch\": 2, \"model\": 21}, \"Metrics\": {\"train_absolute_loss_objective\": {\"sum\": 0.5531137841088432, \"count\": 1, \"min\": 0.5531137841088432, \"max\": 0.5531137841088432}}}\u001b[0m\n",
      "\u001b[34m#metrics {\"StartTime\": 1700509807.881329, \"EndTime\": 1700509807.881348, \"Dimensions\": {\"Algorithm\": \"Linear Learner\", \"Host\": \"algo-1\", \"Operation\": \"training\", \"epoch\": 2, \"model\": 22}, \"Metrics\": {\"train_absolute_loss_objective\": {\"sum\": 0.4331059285572597, \"count\": 1, \"min\": 0.4331059285572597, \"max\": 0.4331059285572597}}}\u001b[0m\n",
      "\u001b[34m#metrics {\"StartTime\": 1700509807.8814068, \"EndTime\": 1700509807.8814228, \"Dimensions\": {\"Algorithm\": \"Linear Learner\", \"Host\": \"algo-1\", \"Operation\": \"training\", \"epoch\": 2, \"model\": 23}, \"Metrics\": {\"train_absolute_loss_objective\": {\"sum\": 0.4903665065765381, \"count\": 1, \"min\": 0.4903665065765381, \"max\": 0.4903665065765381}}}\u001b[0m\n",
      "\u001b[34m#metrics {\"StartTime\": 1700509807.8814886, \"EndTime\": 1700509807.881506, \"Dimensions\": {\"Algorithm\": \"Linear Learner\", \"Host\": \"algo-1\", \"Operation\": \"training\", \"epoch\": 2, \"model\": 24}, \"Metrics\": {\"train_absolute_loss_objective\": {\"sum\": 0.7636749948774065, \"count\": 1, \"min\": 0.7636749948774065, \"max\": 0.7636749948774065}}}\u001b[0m\n",
      "\u001b[34m#metrics {\"StartTime\": 1700509807.8815727, \"EndTime\": 1700509807.8815894, \"Dimensions\": {\"Algorithm\": \"Linear Learner\", \"Host\": \"algo-1\", \"Operation\": \"training\", \"epoch\": 2, \"model\": 25}, \"Metrics\": {\"train_absolute_loss_objective\": {\"sum\": 0.7700021743774415, \"count\": 1, \"min\": 0.7700021743774415, \"max\": 0.7700021743774415}}}\u001b[0m\n",
      "\u001b[34m#metrics {\"StartTime\": 1700509807.8816564, \"EndTime\": 1700509807.8816743, \"Dimensions\": {\"Algorithm\": \"Linear Learner\", \"Host\": \"algo-1\", \"Operation\": \"training\", \"epoch\": 2, \"model\": 26}, \"Metrics\": {\"train_absolute_loss_objective\": {\"sum\": 0.7687100853238787, \"count\": 1, \"min\": 0.7687100853238787, \"max\": 0.7687100853238787}}}\u001b[0m\n",
      "\u001b[34m#metrics {\"StartTime\": 1700509807.8817418, \"EndTime\": 1700509807.8817594, \"Dimensions\": {\"Algorithm\": \"Linear Learner\", \"Host\": \"algo-1\", \"Operation\": \"training\", \"epoch\": 2, \"model\": 27}, \"Metrics\": {\"train_absolute_loss_objective\": {\"sum\": 0.7688679899488177, \"count\": 1, \"min\": 0.7688679899488177, \"max\": 0.7688679899488177}}}\u001b[0m\n",
      "\u001b[34m#metrics {\"StartTime\": 1700509807.881828, \"EndTime\": 1700509807.881845, \"Dimensions\": {\"Algorithm\": \"Linear Learner\", \"Host\": \"algo-1\", \"Operation\": \"training\", \"epoch\": 2, \"model\": 28}, \"Metrics\": {\"train_absolute_loss_objective\": {\"sum\": 1.03865168435233, \"count\": 1, \"min\": 1.03865168435233, \"max\": 1.03865168435233}}}\u001b[0m\n",
      "\u001b[34m#metrics {\"StartTime\": 1700509807.8819082, \"EndTime\": 1700509807.8819258, \"Dimensions\": {\"Algorithm\": \"Linear Learner\", \"Host\": \"algo-1\", \"Operation\": \"training\", \"epoch\": 2, \"model\": 29}, \"Metrics\": {\"train_absolute_loss_objective\": {\"sum\": 1.0951104947498866, \"count\": 1, \"min\": 1.0951104947498866, \"max\": 1.0951104947498866}}}\u001b[0m\n",
      "\u001b[34m#metrics {\"StartTime\": 1700509807.8819835, \"EndTime\": 1700509807.8819997, \"Dimensions\": {\"Algorithm\": \"Linear Learner\", \"Host\": \"algo-1\", \"Operation\": \"training\", \"epoch\": 2, \"model\": 30}, \"Metrics\": {\"train_absolute_loss_objective\": {\"sum\": 1.0826151098523822, \"count\": 1, \"min\": 1.0826151098523822, \"max\": 1.0826151098523822}}}\u001b[0m\n",
      "\u001b[34m#metrics {\"StartTime\": 1700509807.8820636, \"EndTime\": 1700509807.8820808, \"Dimensions\": {\"Algorithm\": \"Linear Learner\", \"Host\": \"algo-1\", \"Operation\": \"training\", \"epoch\": 2, \"model\": 31}, \"Metrics\": {\"train_absolute_loss_objective\": {\"sum\": 1.090861347743443, \"count\": 1, \"min\": 1.090861347743443, \"max\": 1.090861347743443}}}\u001b[0m\n",
      "\u001b[34m[11/20/2023 19:50:07 INFO 140698178795328] #quality_metric: host=algo-1, epoch=2, train absolute_loss_objective <loss>=0.6670218501772199\u001b[0m\n",
      "\u001b[34m[11/20/2023 19:50:07 INFO 140698178795328] #early_stopping_criteria_metric: host=algo-1, epoch=2, criteria=absolute_loss_objective, value=0.29393264906747\u001b[0m\n",
      "\u001b[34m[11/20/2023 19:50:07 INFO 140698178795328] Saving model for epoch: 2\u001b[0m\n",
      "\u001b[34m[11/20/2023 19:50:07 INFO 140698178795328] Saved checkpoint to \"/tmp/tmpfh8kme_v/mx-mod-0000.params\"\u001b[0m\n",
      "\u001b[34m[11/20/2023 19:50:07 INFO 140698178795328] #progress_metric: host=algo-1, completed 60.0 % of epochs\u001b[0m\n",
      "\u001b[34m#metrics {\"StartTime\": 1700509807.5516145, \"EndTime\": 1700509807.8947744, \"Dimensions\": {\"Algorithm\": \"Linear Learner\", \"Host\": \"algo-1\", \"Operation\": \"training\", \"epoch\": 2, \"Meta\": \"training_data_iter\"}, \"Metrics\": {\"Total Records Seen\": {\"sum\": 285.0, \"count\": 1, \"min\": 285, \"max\": 285}, \"Total Batches Seen\": {\"sum\": 57.0, \"count\": 1, \"min\": 57, \"max\": 57}, \"Max Records Seen Between Resets\": {\"sum\": 70.0, \"count\": 1, \"min\": 70, \"max\": 70}, \"Max Batches Seen Between Resets\": {\"sum\": 14.0, \"count\": 1, \"min\": 14, \"max\": 14}, \"Reset Count\": {\"sum\": 5.0, \"count\": 1, \"min\": 5, \"max\": 5}, \"Number of Records Since Last Reset\": {\"sum\": 70.0, \"count\": 1, \"min\": 70, \"max\": 70}, \"Number of Batches Since Last Reset\": {\"sum\": 14.0, \"count\": 1, \"min\": 14, \"max\": 14}}}\u001b[0m\n",
      "\u001b[34m[11/20/2023 19:50:07 INFO 140698178795328] #throughput_metric: host=algo-1, train throughput=203.89076891346 records/second\u001b[0m\n",
      "\u001b[34m[2023-11-20 19:50:08.193] [tensorio] [info] epoch_stats={\"data_pipeline\": \"/opt/ml/input/data/train\", \"epoch\": 10, \"duration\": 297, \"num_examples\": 14, \"num_bytes\": 3360}\u001b[0m\n",
      "\u001b[34m#metrics {\"StartTime\": 1700509808.1931524, \"EndTime\": 1700509808.193251, \"Dimensions\": {\"Algorithm\": \"Linear Learner\", \"Host\": \"algo-1\", \"Operation\": \"training\", \"epoch\": 3, \"model\": 0}, \"Metrics\": {\"train_absolute_loss_objective\": {\"sum\": 0.6165731566292899, \"count\": 1, \"min\": 0.6165731566292899, \"max\": 0.6165731566292899}}}\u001b[0m\n",
      "\u001b[34m#metrics {\"StartTime\": 1700509808.1933696, \"EndTime\": 1700509808.1933954, \"Dimensions\": {\"Algorithm\": \"Linear Learner\", \"Host\": \"algo-1\", \"Operation\": \"training\", \"epoch\": 3, \"model\": 1}, \"Metrics\": {\"train_absolute_loss_objective\": {\"sum\": 0.597989399092538, \"count\": 1, \"min\": 0.597989399092538, \"max\": 0.597989399092538}}}\u001b[0m\n",
      "\u001b[34m#metrics {\"StartTime\": 1700509808.1934628, \"EndTime\": 1700509808.1934822, \"Dimensions\": {\"Algorithm\": \"Linear Learner\", \"Host\": \"algo-1\", \"Operation\": \"training\", \"epoch\": 3, \"model\": 2}, \"Metrics\": {\"train_absolute_loss_objective\": {\"sum\": 0.6147040060588291, \"count\": 1, \"min\": 0.6147040060588291, \"max\": 0.6147040060588291}}}\u001b[0m\n",
      "\u001b[34m#metrics {\"StartTime\": 1700509808.1935537, \"EndTime\": 1700509808.1935728, \"Dimensions\": {\"Algorithm\": \"Linear Learner\", \"Host\": \"algo-1\", \"Operation\": \"training\", \"epoch\": 3, \"model\": 3}, \"Metrics\": {\"train_absolute_loss_objective\": {\"sum\": 0.5987758363996233, \"count\": 1, \"min\": 0.5987758363996233, \"max\": 0.5987758363996233}}}\u001b[0m\n",
      "\u001b[34m#metrics {\"StartTime\": 1700509808.1936295, \"EndTime\": 1700509808.1936474, \"Dimensions\": {\"Algorithm\": \"Linear Learner\", \"Host\": \"algo-1\", \"Operation\": \"training\", \"epoch\": 3, \"model\": 4}, \"Metrics\": {\"train_absolute_loss_objective\": {\"sum\": 0.2969496284212385, \"count\": 1, \"min\": 0.2969496284212385, \"max\": 0.2969496284212385}}}\u001b[0m\n",
      "\u001b[34m#metrics {\"StartTime\": 1700509808.1937137, \"EndTime\": 1700509808.1937306, \"Dimensions\": {\"Algorithm\": \"Linear Learner\", \"Host\": \"algo-1\", \"Operation\": \"training\", \"epoch\": 3, \"model\": 5}, \"Metrics\": {\"train_absolute_loss_objective\": {\"sum\": 0.3553930401802063, \"count\": 1, \"min\": 0.3553930401802063, \"max\": 0.3553930401802063}}}\u001b[0m\n",
      "\u001b[34m#metrics {\"StartTime\": 1700509808.1937947, \"EndTime\": 1700509808.1938124, \"Dimensions\": {\"Algorithm\": \"Linear Learner\", \"Host\": \"algo-1\", \"Operation\": \"training\", \"epoch\": 3, \"model\": 6}, \"Metrics\": {\"train_absolute_loss_objective\": {\"sum\": 0.2596794098615646, \"count\": 1, \"min\": 0.2596794098615646, \"max\": 0.2596794098615646}}}\u001b[0m\n",
      "\u001b[34m#metrics {\"StartTime\": 1700509808.1938822, \"EndTime\": 1700509808.1938999, \"Dimensions\": {\"Algorithm\": \"Linear Learner\", \"Host\": \"algo-1\", \"Operation\": \"training\", \"epoch\": 3, \"model\": 7}, \"Metrics\": {\"train_absolute_loss_objective\": {\"sum\": 0.29445277750492094, \"count\": 1, \"min\": 0.29445277750492094, \"max\": 0.29445277750492094}}}\u001b[0m\n",
      "\u001b[34m#metrics {\"StartTime\": 1700509808.1939545, \"EndTime\": 1700509808.1939728, \"Dimensions\": {\"Algorithm\": \"Linear Learner\", \"Host\": \"algo-1\", \"Operation\": \"training\", \"epoch\": 3, \"model\": 8}, \"Metrics\": {\"train_absolute_loss_objective\": {\"sum\": 0.5757499354226249, \"count\": 1, \"min\": 0.5757499354226249, \"max\": 0.5757499354226249}}}\u001b[0m\n",
      "\u001b[34m#metrics {\"StartTime\": 1700509808.1940396, \"EndTime\": 1700509808.1940575, \"Dimensions\": {\"Algorithm\": \"Linear Learner\", \"Host\": \"algo-1\", \"Operation\": \"training\", \"epoch\": 3, \"model\": 9}, \"Metrics\": {\"train_absolute_loss_objective\": {\"sum\": 0.6235066141401019, \"count\": 1, \"min\": 0.6235066141401019, \"max\": 0.6235066141401019}}}\u001b[0m\n",
      "\u001b[34m#metrics {\"StartTime\": 1700509808.194112, \"EndTime\": 1700509808.1941292, \"Dimensions\": {\"Algorithm\": \"Linear Learner\", \"Host\": \"algo-1\", \"Operation\": \"training\", \"epoch\": 3, \"model\": 10}, \"Metrics\": {\"train_absolute_loss_objective\": {\"sum\": 0.6207714762006488, \"count\": 1, \"min\": 0.6207714762006488, \"max\": 0.6207714762006488}}}\u001b[0m\n",
      "\u001b[34m#metrics {\"StartTime\": 1700509808.1941953, \"EndTime\": 1700509808.1942127, \"Dimensions\": {\"Algorithm\": \"Linear Learner\", \"Host\": \"algo-1\", \"Operation\": \"training\", \"epoch\": 3, \"model\": 11}, \"Metrics\": {\"train_absolute_loss_objective\": {\"sum\": 0.6297572442463466, \"count\": 1, \"min\": 0.6297572442463466, \"max\": 0.6297572442463466}}}\u001b[0m\n",
      "\u001b[34m#metrics {\"StartTime\": 1700509808.1942668, \"EndTime\": 1700509808.1942837, \"Dimensions\": {\"Algorithm\": \"Linear Learner\", \"Host\": \"algo-1\", \"Operation\": \"training\", \"epoch\": 3, \"model\": 12}, \"Metrics\": {\"train_absolute_loss_objective\": {\"sum\": 0.2571869956595557, \"count\": 1, \"min\": 0.2571869956595557, \"max\": 0.2571869956595557}}}\u001b[0m\n",
      "\u001b[34m#metrics {\"StartTime\": 1700509808.194349, \"EndTime\": 1700509808.1943662, \"Dimensions\": {\"Algorithm\": \"Linear Learner\", \"Host\": \"algo-1\", \"Operation\": \"training\", \"epoch\": 3, \"model\": 13}, \"Metrics\": {\"train_absolute_loss_objective\": {\"sum\": 0.29423972964286804, \"count\": 1, \"min\": 0.29423972964286804, \"max\": 0.29423972964286804}}}\u001b[0m\n",
      "\u001b[34m#metrics {\"StartTime\": 1700509808.194436, \"EndTime\": 1700509808.1944535, \"Dimensions\": {\"Algorithm\": \"Linear Learner\", \"Host\": \"algo-1\", \"Operation\": \"training\", \"epoch\": 3, \"model\": 14}, \"Metrics\": {\"train_absolute_loss_objective\": {\"sum\": 0.2570040281329836, \"count\": 1, \"min\": 0.2570040281329836, \"max\": 0.2570040281329836}}}\u001b[0m\n",
      "\u001b[34m#metrics {\"StartTime\": 1700509808.1945224, \"EndTime\": 1700509808.194541, \"Dimensions\": {\"Algorithm\": \"Linear Learner\", \"Host\": \"algo-1\", \"Operation\": \"training\", \"epoch\": 3, \"model\": 15}, \"Metrics\": {\"train_absolute_loss_objective\": {\"sum\": 0.29482004046440125, \"count\": 1, \"min\": 0.29482004046440125, \"max\": 0.29482004046440125}}}\u001b[0m\n",
      "\u001b[34m#metrics {\"StartTime\": 1700509808.194609, \"EndTime\": 1700509808.1946578, \"Dimensions\": {\"Algorithm\": \"Linear Learner\", \"Host\": \"algo-1\", \"Operation\": \"training\", \"epoch\": 3, \"model\": 16}, \"Metrics\": {\"train_absolute_loss_objective\": {\"sum\": 0.6503607477460589, \"count\": 1, \"min\": 0.6503607477460589, \"max\": 0.6503607477460589}}}\u001b[0m\n",
      "\u001b[34m#metrics {\"StartTime\": 1700509808.1947334, \"EndTime\": 1700509808.194751, \"Dimensions\": {\"Algorithm\": \"Linear Learner\", \"Host\": \"algo-1\", \"Operation\": \"training\", \"epoch\": 3, \"model\": 17}, \"Metrics\": {\"train_absolute_loss_objective\": {\"sum\": 0.6106344291142055, \"count\": 1, \"min\": 0.6106344291142055, \"max\": 0.6106344291142055}}}\u001b[0m\n",
      "\u001b[34m#metrics {\"StartTime\": 1700509808.1948204, \"EndTime\": 1700509808.1948392, \"Dimensions\": {\"Algorithm\": \"Linear Learner\", \"Host\": \"algo-1\", \"Operation\": \"training\", \"epoch\": 3, \"model\": 18}, \"Metrics\": {\"train_absolute_loss_objective\": {\"sum\": 0.6309614794594901, \"count\": 1, \"min\": 0.6309614794594901, \"max\": 0.6309614794594901}}}\u001b[0m\n",
      "\u001b[34m#metrics {\"StartTime\": 1700509808.1949353, \"EndTime\": 1700509808.194957, \"Dimensions\": {\"Algorithm\": \"Linear Learner\", \"Host\": \"algo-1\", \"Operation\": \"training\", \"epoch\": 3, \"model\": 19}, \"Metrics\": {\"train_absolute_loss_objective\": {\"sum\": 0.630539573941912, \"count\": 1, \"min\": 0.630539573941912, \"max\": 0.630539573941912}}}\u001b[0m\n",
      "\u001b[34m#metrics {\"StartTime\": 1700509808.1950295, \"EndTime\": 1700509808.1950476, \"Dimensions\": {\"Algorithm\": \"Linear Learner\", \"Host\": \"algo-1\", \"Operation\": \"training\", \"epoch\": 3, \"model\": 20}, \"Metrics\": {\"train_absolute_loss_objective\": {\"sum\": 0.4382612637111119, \"count\": 1, \"min\": 0.4382612637111119, \"max\": 0.4382612637111119}}}\u001b[0m\n",
      "\u001b[34m#metrics {\"StartTime\": 1700509808.1951149, \"EndTime\": 1700509808.195134, \"Dimensions\": {\"Algorithm\": \"Linear Learner\", \"Host\": \"algo-1\", \"Operation\": \"training\", \"epoch\": 3, \"model\": 21}, \"Metrics\": {\"train_absolute_loss_objective\": {\"sum\": 0.4277601293155125, \"count\": 1, \"min\": 0.4277601293155125, \"max\": 0.4277601293155125}}}\u001b[0m\n",
      "\u001b[34m#metrics {\"StartTime\": 1700509808.1952, \"EndTime\": 1700509808.1952183, \"Dimensions\": {\"Algorithm\": \"Linear Learner\", \"Host\": \"algo-1\", \"Operation\": \"training\", \"epoch\": 3, \"model\": 22}, \"Metrics\": {\"train_absolute_loss_objective\": {\"sum\": 0.42153699908937725, \"count\": 1, \"min\": 0.42153699908937725, \"max\": 0.42153699908937725}}}\u001b[0m\n",
      "\u001b[34m#metrics {\"StartTime\": 1700509808.195324, \"EndTime\": 1700509808.1953437, \"Dimensions\": {\"Algorithm\": \"Linear Learner\", \"Host\": \"algo-1\", \"Operation\": \"training\", \"epoch\": 3, \"model\": 23}, \"Metrics\": {\"train_absolute_loss_objective\": {\"sum\": 0.45224242040089196, \"count\": 1, \"min\": 0.45224242040089196, \"max\": 0.45224242040089196}}}\u001b[0m\n",
      "\u001b[34m#metrics {\"StartTime\": 1700509808.1954038, \"EndTime\": 1700509808.1954212, \"Dimensions\": {\"Algorithm\": \"Linear Learner\", \"Host\": \"algo-1\", \"Operation\": \"training\", \"epoch\": 3, \"model\": 24}, \"Metrics\": {\"train_absolute_loss_objective\": {\"sum\": 0.7659052099500384, \"count\": 1, \"min\": 0.7659052099500384, \"max\": 0.7659052099500384}}}\u001b[0m\n",
      "\u001b[34m#metrics {\"StartTime\": 1700509808.195485, \"EndTime\": 1700509808.1955042, \"Dimensions\": {\"Algorithm\": \"Linear Learner\", \"Host\": \"algo-1\", \"Operation\": \"training\", \"epoch\": 3, \"model\": 25}, \"Metrics\": {\"train_absolute_loss_objective\": {\"sum\": 0.7647255114146642, \"count\": 1, \"min\": 0.7647255114146642, \"max\": 0.7647255114146642}}}\u001b[0m\n",
      "\u001b[34m#metrics {\"StartTime\": 1700509808.1955721, \"EndTime\": 1700509808.1955903, \"Dimensions\": {\"Algorithm\": \"Linear Learner\", \"Host\": \"algo-1\", \"Operation\": \"training\", \"epoch\": 3, \"model\": 26}, \"Metrics\": {\"train_absolute_loss_objective\": {\"sum\": 0.7640003749302455, \"count\": 1, \"min\": 0.7640003749302455, \"max\": 0.7640003749302455}}}\u001b[0m\n",
      "\u001b[34m#metrics {\"StartTime\": 1700509808.195648, \"EndTime\": 1700509808.1956654, \"Dimensions\": {\"Algorithm\": \"Linear Learner\", \"Host\": \"algo-1\", \"Operation\": \"training\", \"epoch\": 3, \"model\": 27}, \"Metrics\": {\"train_absolute_loss_objective\": {\"sum\": 0.7644232239042009, \"count\": 1, \"min\": 0.7644232239042009, \"max\": 0.7644232239042009}}}\u001b[0m\n",
      "\u001b[34m#metrics {\"StartTime\": 1700509808.1957319, \"EndTime\": 1700509808.19575, \"Dimensions\": {\"Algorithm\": \"Linear Learner\", \"Host\": \"algo-1\", \"Operation\": \"training\", \"epoch\": 3, \"model\": 28}, \"Metrics\": {\"train_absolute_loss_objective\": {\"sum\": 0.9192671469279698, \"count\": 1, \"min\": 0.9192671469279698, \"max\": 0.9192671469279698}}}\u001b[0m\n",
      "\u001b[34m#metrics {\"StartTime\": 1700509808.195819, \"EndTime\": 1700509808.195837, \"Dimensions\": {\"Algorithm\": \"Linear Learner\", \"Host\": \"algo-1\", \"Operation\": \"training\", \"epoch\": 3, \"model\": 29}, \"Metrics\": {\"train_absolute_loss_objective\": {\"sum\": 0.899554249218532, \"count\": 1, \"min\": 0.899554249218532, \"max\": 0.899554249218532}}}\u001b[0m\n",
      "\u001b[34m#metrics {\"StartTime\": 1700509808.195904, \"EndTime\": 1700509808.1959217, \"Dimensions\": {\"Algorithm\": \"Linear Learner\", \"Host\": \"algo-1\", \"Operation\": \"training\", \"epoch\": 3, \"model\": 30}, \"Metrics\": {\"train_absolute_loss_objective\": {\"sum\": 0.8907185282026019, \"count\": 1, \"min\": 0.8907185282026019, \"max\": 0.8907185282026019}}}\u001b[0m\n",
      "\u001b[34m#metrics {\"StartTime\": 1700509808.195988, \"EndTime\": 1700509808.1960058, \"Dimensions\": {\"Algorithm\": \"Linear Learner\", \"Host\": \"algo-1\", \"Operation\": \"training\", \"epoch\": 3, \"model\": 31}, \"Metrics\": {\"train_absolute_loss_objective\": {\"sum\": 0.9007996218545097, \"count\": 1, \"min\": 0.9007996218545097, \"max\": 0.9007996218545097}}}\u001b[0m\n",
      "\u001b[34m[11/20/2023 19:50:08 INFO 140698178795328] #quality_metric: host=algo-1, epoch=3, train absolute_loss_objective <loss>=0.6165731566292899\u001b[0m\n",
      "\u001b[34m[11/20/2023 19:50:08 INFO 140698178795328] #early_stopping_criteria_metric: host=algo-1, epoch=3, criteria=absolute_loss_objective, value=0.2570040281329836\u001b[0m\n",
      "\u001b[34m[11/20/2023 19:50:08 INFO 140698178795328] Epoch 3: Loss improved. Updating best model\u001b[0m\n",
      "\u001b[34m[11/20/2023 19:50:08 INFO 140698178795328] Saving model for epoch: 3\u001b[0m\n",
      "\u001b[34m[11/20/2023 19:50:08 INFO 140698178795328] Saved checkpoint to \"/tmp/tmpitln_4e7/mx-mod-0000.params\"\u001b[0m\n",
      "\u001b[34m[11/20/2023 19:50:08 INFO 140698178795328] #progress_metric: host=algo-1, completed 80.0 % of epochs\u001b[0m\n",
      "\u001b[34m#metrics {\"StartTime\": 1700509807.8951135, \"EndTime\": 1700509808.205696, \"Dimensions\": {\"Algorithm\": \"Linear Learner\", \"Host\": \"algo-1\", \"Operation\": \"training\", \"epoch\": 3, \"Meta\": \"training_data_iter\"}, \"Metrics\": {\"Total Records Seen\": {\"sum\": 355.0, \"count\": 1, \"min\": 355, \"max\": 355}, \"Total Batches Seen\": {\"sum\": 71.0, \"count\": 1, \"min\": 71, \"max\": 71}, \"Max Records Seen Between Resets\": {\"sum\": 70.0, \"count\": 1, \"min\": 70, \"max\": 70}, \"Max Batches Seen Between Resets\": {\"sum\": 14.0, \"count\": 1, \"min\": 14, \"max\": 14}, \"Reset Count\": {\"sum\": 6.0, \"count\": 1, \"min\": 6, \"max\": 6}, \"Number of Records Since Last Reset\": {\"sum\": 70.0, \"count\": 1, \"min\": 70, \"max\": 70}, \"Number of Batches Since Last Reset\": {\"sum\": 14.0, \"count\": 1, \"min\": 14, \"max\": 14}}}\u001b[0m\n",
      "\u001b[34m[11/20/2023 19:50:08 INFO 140698178795328] #throughput_metric: host=algo-1, train throughput=225.27113749152167 records/second\u001b[0m\n",
      "\u001b[34m[2023-11-20 19:50:08.471] [tensorio] [info] epoch_stats={\"data_pipeline\": \"/opt/ml/input/data/train\", \"epoch\": 12, \"duration\": 264, \"num_examples\": 14, \"num_bytes\": 3360}\u001b[0m\n",
      "\u001b[34m#metrics {\"StartTime\": 1700509808.4713008, \"EndTime\": 1700509808.4714088, \"Dimensions\": {\"Algorithm\": \"Linear Learner\", \"Host\": \"algo-1\", \"Operation\": \"training\", \"epoch\": 4, \"model\": 0}, \"Metrics\": {\"train_absolute_loss_objective\": {\"sum\": 0.5785918457167489, \"count\": 1, \"min\": 0.5785918457167489, \"max\": 0.5785918457167489}}}\u001b[0m\n",
      "\u001b[34m#metrics {\"StartTime\": 1700509808.4716158, \"EndTime\": 1700509808.471643, \"Dimensions\": {\"Algorithm\": \"Linear Learner\", \"Host\": \"algo-1\", \"Operation\": \"training\", \"epoch\": 4, \"model\": 1}, \"Metrics\": {\"train_absolute_loss_objective\": {\"sum\": 0.5593165159225464, \"count\": 1, \"min\": 0.5593165159225464, \"max\": 0.5593165159225464}}}\u001b[0m\n",
      "\u001b[34m#metrics {\"StartTime\": 1700509808.471736, \"EndTime\": 1700509808.4717526, \"Dimensions\": {\"Algorithm\": \"Linear Learner\", \"Host\": \"algo-1\", \"Operation\": \"training\", \"epoch\": 4, \"model\": 2}, \"Metrics\": {\"train_absolute_loss_objective\": {\"sum\": 0.5767226696014405, \"count\": 1, \"min\": 0.5767226696014405, \"max\": 0.5767226696014405}}}\u001b[0m\n",
      "\u001b[34m#metrics {\"StartTime\": 1700509808.471802, \"EndTime\": 1700509808.4718153, \"Dimensions\": {\"Algorithm\": \"Linear Learner\", \"Host\": \"algo-1\", \"Operation\": \"training\", \"epoch\": 4, \"model\": 3}, \"Metrics\": {\"train_absolute_loss_objective\": {\"sum\": 0.5600873282977513, \"count\": 1, \"min\": 0.5600873282977513, \"max\": 0.5600873282977513}}}\u001b[0m\n",
      "\u001b[34m#metrics {\"StartTime\": 1700509808.4718697, \"EndTime\": 1700509808.4718838, \"Dimensions\": {\"Algorithm\": \"Linear Learner\", \"Host\": \"algo-1\", \"Operation\": \"training\", \"epoch\": 4, \"model\": 4}, \"Metrics\": {\"train_absolute_loss_objective\": {\"sum\": 0.29746681451797485, \"count\": 1, \"min\": 0.29746681451797485, \"max\": 0.29746681451797485}}}\u001b[0m\n",
      "\u001b[34m#metrics {\"StartTime\": 1700509808.4719381, \"EndTime\": 1700509808.4719546, \"Dimensions\": {\"Algorithm\": \"Linear Learner\", \"Host\": \"algo-1\", \"Operation\": \"training\", \"epoch\": 4, \"model\": 5}, \"Metrics\": {\"train_absolute_loss_objective\": {\"sum\": 0.27496120248522077, \"count\": 1, \"min\": 0.27496120248522077, \"max\": 0.27496120248522077}}}\u001b[0m\n",
      "\u001b[34m#metrics {\"StartTime\": 1700509808.4720886, \"EndTime\": 1700509808.4721098, \"Dimensions\": {\"Algorithm\": \"Linear Learner\", \"Host\": \"algo-1\", \"Operation\": \"training\", \"epoch\": 4, \"model\": 6}, \"Metrics\": {\"train_absolute_loss_objective\": {\"sum\": 0.2828093954495021, \"count\": 1, \"min\": 0.2828093954495021, \"max\": 0.2828093954495021}}}\u001b[0m\n",
      "\u001b[34m#metrics {\"StartTime\": 1700509808.4722977, \"EndTime\": 1700509808.4723222, \"Dimensions\": {\"Algorithm\": \"Linear Learner\", \"Host\": \"algo-1\", \"Operation\": \"training\", \"epoch\": 4, \"model\": 7}, \"Metrics\": {\"train_absolute_loss_objective\": {\"sum\": 0.31647914477757044, \"count\": 1, \"min\": 0.31647914477757044, \"max\": 0.31647914477757044}}}\u001b[0m\n",
      "\u001b[34m#metrics {\"StartTime\": 1700509808.4723914, \"EndTime\": 1700509808.4724092, \"Dimensions\": {\"Algorithm\": \"Linear Learner\", \"Host\": \"algo-1\", \"Operation\": \"training\", \"epoch\": 4, \"model\": 8}, \"Metrics\": {\"train_absolute_loss_objective\": {\"sum\": 0.5374744142804827, \"count\": 1, \"min\": 0.5374744142804827, \"max\": 0.5374744142804827}}}\u001b[0m\n",
      "\u001b[34m#metrics {\"StartTime\": 1700509808.4724793, \"EndTime\": 1700509808.4724977, \"Dimensions\": {\"Algorithm\": \"Linear Learner\", \"Host\": \"algo-1\", \"Operation\": \"training\", \"epoch\": 4, \"model\": 9}, \"Metrics\": {\"train_absolute_loss_objective\": {\"sum\": 0.5825098208018712, \"count\": 1, \"min\": 0.5825098208018712, \"max\": 0.5825098208018712}}}\u001b[0m\n",
      "\u001b[34m#metrics {\"StartTime\": 1700509808.4725668, \"EndTime\": 1700509808.472585, \"Dimensions\": {\"Algorithm\": \"Linear Learner\", \"Host\": \"algo-1\", \"Operation\": \"training\", \"epoch\": 4, \"model\": 10}, \"Metrics\": {\"train_absolute_loss_objective\": {\"sum\": 0.5828492641448975, \"count\": 1, \"min\": 0.5828492641448975, \"max\": 0.5828492641448975}}}\u001b[0m\n",
      "\u001b[34m#metrics {\"StartTime\": 1700509808.4726539, \"EndTime\": 1700509808.4726717, \"Dimensions\": {\"Algorithm\": \"Linear Learner\", \"Host\": \"algo-1\", \"Operation\": \"training\", \"epoch\": 4, \"model\": 11}, \"Metrics\": {\"train_absolute_loss_objective\": {\"sum\": 0.588859828880855, \"count\": 1, \"min\": 0.588859828880855, \"max\": 0.588859828880855}}}\u001b[0m\n",
      "\u001b[34m#metrics {\"StartTime\": 1700509808.4727407, \"EndTime\": 1700509808.4727879, \"Dimensions\": {\"Algorithm\": \"Linear Learner\", \"Host\": \"algo-1\", \"Operation\": \"training\", \"epoch\": 4, \"model\": 12}, \"Metrics\": {\"train_absolute_loss_objective\": {\"sum\": 0.29616290756634306, \"count\": 1, \"min\": 0.29616290756634306, \"max\": 0.29616290756634306}}}\u001b[0m\n",
      "\u001b[34m#metrics {\"StartTime\": 1700509808.4728649, \"EndTime\": 1700509808.4728835, \"Dimensions\": {\"Algorithm\": \"Linear Learner\", \"Host\": \"algo-1\", \"Operation\": \"training\", \"epoch\": 4, \"model\": 13}, \"Metrics\": {\"train_absolute_loss_objective\": {\"sum\": 0.2722916373184749, \"count\": 1, \"min\": 0.2722916373184749, \"max\": 0.2722916373184749}}}\u001b[0m\n",
      "\u001b[34m#metrics {\"StartTime\": 1700509808.4729526, \"EndTime\": 1700509808.4729707, \"Dimensions\": {\"Algorithm\": \"Linear Learner\", \"Host\": \"algo-1\", \"Operation\": \"training\", \"epoch\": 4, \"model\": 14}, \"Metrics\": {\"train_absolute_loss_objective\": {\"sum\": 0.29629062073571344, \"count\": 1, \"min\": 0.29629062073571344, \"max\": 0.29629062073571344}}}\u001b[0m\n",
      "\u001b[34m#metrics {\"StartTime\": 1700509808.4730396, \"EndTime\": 1700509808.4730575, \"Dimensions\": {\"Algorithm\": \"Linear Learner\", \"Host\": \"algo-1\", \"Operation\": \"training\", \"epoch\": 4, \"model\": 15}, \"Metrics\": {\"train_absolute_loss_objective\": {\"sum\": 0.2722770367349897, \"count\": 1, \"min\": 0.2722770367349897, \"max\": 0.2722770367349897}}}\u001b[0m\n",
      "\u001b[34m#metrics {\"StartTime\": 1700509808.4731116, \"EndTime\": 1700509808.473128, \"Dimensions\": {\"Algorithm\": \"Linear Learner\", \"Host\": \"algo-1\", \"Operation\": \"training\", \"epoch\": 4, \"model\": 16}, \"Metrics\": {\"train_absolute_loss_objective\": {\"sum\": 0.6166357721601213, \"count\": 1, \"min\": 0.6166357721601213, \"max\": 0.6166357721601213}}}\u001b[0m\n",
      "\u001b[34m#metrics {\"StartTime\": 1700509808.4731865, \"EndTime\": 1700509808.4732027, \"Dimensions\": {\"Algorithm\": \"Linear Learner\", \"Host\": \"algo-1\", \"Operation\": \"training\", \"epoch\": 4, \"model\": 17}, \"Metrics\": {\"train_absolute_loss_objective\": {\"sum\": 0.5784058196204049, \"count\": 1, \"min\": 0.5784058196204049, \"max\": 0.5784058196204049}}}\u001b[0m\n",
      "\u001b[34m#metrics {\"StartTime\": 1700509808.4732578, \"EndTime\": 1700509808.4732747, \"Dimensions\": {\"Algorithm\": \"Linear Learner\", \"Host\": \"algo-1\", \"Operation\": \"training\", \"epoch\": 4, \"model\": 18}, \"Metrics\": {\"train_absolute_loss_objective\": {\"sum\": 0.5984853148460388, \"count\": 1, \"min\": 0.5984853148460388, \"max\": 0.5984853148460388}}}\u001b[0m\n",
      "\u001b[34m#metrics {\"StartTime\": 1700509808.4733322, \"EndTime\": 1700509808.4733489, \"Dimensions\": {\"Algorithm\": \"Linear Learner\", \"Host\": \"algo-1\", \"Operation\": \"training\", \"epoch\": 4, \"model\": 19}, \"Metrics\": {\"train_absolute_loss_objective\": {\"sum\": 0.596547417981284, \"count\": 1, \"min\": 0.596547417981284, \"max\": 0.596547417981284}}}\u001b[0m\n",
      "\u001b[34m#metrics {\"StartTime\": 1700509808.4734023, \"EndTime\": 1700509808.473419, \"Dimensions\": {\"Algorithm\": \"Linear Learner\", \"Host\": \"algo-1\", \"Operation\": \"training\", \"epoch\": 4, \"model\": 20}, \"Metrics\": {\"train_absolute_loss_objective\": {\"sum\": 0.5129721692630222, \"count\": 1, \"min\": 0.5129721692630222, \"max\": 0.5129721692630222}}}\u001b[0m\n",
      "\u001b[34m#metrics {\"StartTime\": 1700509808.4734752, \"EndTime\": 1700509808.4734921, \"Dimensions\": {\"Algorithm\": \"Linear Learner\", \"Host\": \"algo-1\", \"Operation\": \"training\", \"epoch\": 4, \"model\": 21}, \"Metrics\": {\"train_absolute_loss_objective\": {\"sum\": 0.4261883974075317, \"count\": 1, \"min\": 0.4261883974075317, \"max\": 0.4261883974075317}}}\u001b[0m\n",
      "\u001b[34m#metrics {\"StartTime\": 1700509808.4735453, \"EndTime\": 1700509808.4735608, \"Dimensions\": {\"Algorithm\": \"Linear Learner\", \"Host\": \"algo-1\", \"Operation\": \"training\", \"epoch\": 4, \"model\": 22}, \"Metrics\": {\"train_absolute_loss_objective\": {\"sum\": 0.5041920832225255, \"count\": 1, \"min\": 0.5041920832225255, \"max\": 0.5041920832225255}}}\u001b[0m\n",
      "\u001b[34m#metrics {\"StartTime\": 1700509808.4736173, \"EndTime\": 1700509808.473634, \"Dimensions\": {\"Algorithm\": \"Linear Learner\", \"Host\": \"algo-1\", \"Operation\": \"training\", \"epoch\": 4, \"model\": 23}, \"Metrics\": {\"train_absolute_loss_objective\": {\"sum\": 0.5199149097715106, \"count\": 1, \"min\": 0.5199149097715106, \"max\": 0.5199149097715106}}}\u001b[0m\n",
      "\u001b[34m#metrics {\"StartTime\": 1700509808.4736853, \"EndTime\": 1700509808.4737616, \"Dimensions\": {\"Algorithm\": \"Linear Learner\", \"Host\": \"algo-1\", \"Operation\": \"training\", \"epoch\": 4, \"model\": 24}, \"Metrics\": {\"train_absolute_loss_objective\": {\"sum\": 0.7651844058718, \"count\": 1, \"min\": 0.7651844058718, \"max\": 0.7651844058718}}}\u001b[0m\n",
      "\u001b[34m#metrics {\"StartTime\": 1700509808.4738424, \"EndTime\": 1700509808.4738598, \"Dimensions\": {\"Algorithm\": \"Linear Learner\", \"Host\": \"algo-1\", \"Operation\": \"training\", \"epoch\": 4, \"model\": 25}, \"Metrics\": {\"train_absolute_loss_objective\": {\"sum\": 0.7636790956769671, \"count\": 1, \"min\": 0.7636790956769671, \"max\": 0.7636790956769671}}}\u001b[0m\n",
      "\u001b[34m#metrics {\"StartTime\": 1700509808.4739316, \"EndTime\": 1700509808.473949, \"Dimensions\": {\"Algorithm\": \"Linear Learner\", \"Host\": \"algo-1\", \"Operation\": \"training\", \"epoch\": 4, \"model\": 26}, \"Metrics\": {\"train_absolute_loss_objective\": {\"sum\": 0.7643864631652832, \"count\": 1, \"min\": 0.7643864631652832, \"max\": 0.7643864631652832}}}\u001b[0m\n",
      "\u001b[34m#metrics {\"StartTime\": 1700509808.474017, \"EndTime\": 1700509808.474034, \"Dimensions\": {\"Algorithm\": \"Linear Learner\", \"Host\": \"algo-1\", \"Operation\": \"training\", \"epoch\": 4, \"model\": 27}, \"Metrics\": {\"train_absolute_loss_objective\": {\"sum\": 0.7645855937685285, \"count\": 1, \"min\": 0.7645855937685285, \"max\": 0.7645855937685285}}}\u001b[0m\n",
      "\u001b[34m#metrics {\"StartTime\": 1700509808.4741793, \"EndTime\": 1700509808.4742024, \"Dimensions\": {\"Algorithm\": \"Linear Learner\", \"Host\": \"algo-1\", \"Operation\": \"training\", \"epoch\": 4, \"model\": 28}, \"Metrics\": {\"train_absolute_loss_objective\": {\"sum\": 0.9591223750795637, \"count\": 1, \"min\": 0.9591223750795637, \"max\": 0.9591223750795637}}}\u001b[0m\n",
      "\u001b[34m#metrics {\"StartTime\": 1700509808.4743373, \"EndTime\": 1700509808.4743605, \"Dimensions\": {\"Algorithm\": \"Linear Learner\", \"Host\": \"algo-1\", \"Operation\": \"training\", \"epoch\": 4, \"model\": 29}, \"Metrics\": {\"train_absolute_loss_objective\": {\"sum\": 0.8417263473783221, \"count\": 1, \"min\": 0.8417263473783221, \"max\": 0.8417263473783221}}}\u001b[0m\n",
      "\u001b[34m#metrics {\"StartTime\": 1700509808.474468, \"EndTime\": 1700509808.474487, \"Dimensions\": {\"Algorithm\": \"Linear Learner\", \"Host\": \"algo-1\", \"Operation\": \"training\", \"epoch\": 4, \"model\": 30}, \"Metrics\": {\"train_absolute_loss_objective\": {\"sum\": 0.8373238801956177, \"count\": 1, \"min\": 0.8373238801956177, \"max\": 0.8373238801956177}}}\u001b[0m\n",
      "\u001b[34m#metrics {\"StartTime\": 1700509808.474629, \"EndTime\": 1700509808.4746516, \"Dimensions\": {\"Algorithm\": \"Linear Learner\", \"Host\": \"algo-1\", \"Operation\": \"training\", \"epoch\": 4, \"model\": 31}, \"Metrics\": {\"train_absolute_loss_objective\": {\"sum\": 0.8403756584439959, \"count\": 1, \"min\": 0.8403756584439959, \"max\": 0.8403756584439959}}}\u001b[0m\n",
      "\u001b[34m[11/20/2023 19:50:08 INFO 140698178795328] #quality_metric: host=algo-1, epoch=4, train absolute_loss_objective <loss>=0.5785918457167489\u001b[0m\n",
      "\u001b[34m[11/20/2023 19:50:08 INFO 140698178795328] #early_stopping_criteria_metric: host=algo-1, epoch=4, criteria=absolute_loss_objective, value=0.2722770367349897\u001b[0m\n",
      "\u001b[34m[11/20/2023 19:50:08 INFO 140698178795328] Saving model for epoch: 4\u001b[0m\n",
      "\u001b[34m[11/20/2023 19:50:08 INFO 140698178795328] Saved checkpoint to \"/tmp/tmp66cleny7/mx-mod-0000.params\"\u001b[0m\n",
      "\u001b[34m[11/20/2023 19:50:08 INFO 140698178795328] #progress_metric: host=algo-1, completed 100.0 % of epochs\u001b[0m\n",
      "\u001b[34m#metrics {\"StartTime\": 1700509808.206011, \"EndTime\": 1700509808.486846, \"Dimensions\": {\"Algorithm\": \"Linear Learner\", \"Host\": \"algo-1\", \"Operation\": \"training\", \"epoch\": 4, \"Meta\": \"training_data_iter\"}, \"Metrics\": {\"Total Records Seen\": {\"sum\": 425.0, \"count\": 1, \"min\": 425, \"max\": 425}, \"Total Batches Seen\": {\"sum\": 85.0, \"count\": 1, \"min\": 85, \"max\": 85}, \"Max Records Seen Between Resets\": {\"sum\": 70.0, \"count\": 1, \"min\": 70, \"max\": 70}, \"Max Batches Seen Between Resets\": {\"sum\": 14.0, \"count\": 1, \"min\": 14, \"max\": 14}, \"Reset Count\": {\"sum\": 7.0, \"count\": 1, \"min\": 7, \"max\": 7}, \"Number of Records Since Last Reset\": {\"sum\": 70.0, \"count\": 1, \"min\": 70, \"max\": 70}, \"Number of Batches Since Last Reset\": {\"sum\": 14.0, \"count\": 1, \"min\": 14, \"max\": 14}}}\u001b[0m\n",
      "\u001b[34m[11/20/2023 19:50:08 INFO 140698178795328] #throughput_metric: host=algo-1, train throughput=249.11971015353546 records/second\u001b[0m\n",
      "\u001b[34m[11/20/2023 19:50:08 WARNING 140698178795328] wait_for_all_workers will not sync workers since the kv store is not running distributed\u001b[0m\n",
      "\u001b[34m[11/20/2023 19:50:08 WARNING 140698178795328] wait_for_all_workers will not sync workers since the kv store is not running distributed\u001b[0m\n",
      "\u001b[34m[2023-11-20 19:50:08.488] [tensorio] [info] epoch_stats={\"data_pipeline\": \"/opt/ml/input/data/train\", \"epoch\": 14, \"duration\": 0, \"num_examples\": 1, \"num_bytes\": 240}\u001b[0m\n",
      "\u001b[34m[2023-11-20 19:50:08.525] [tensorio] [info] epoch_stats={\"data_pipeline\": \"/opt/ml/input/data/train\", \"epoch\": 16, \"duration\": 34, \"num_examples\": 14, \"num_bytes\": 3360}\u001b[0m\n",
      "\u001b[34m[11/20/2023 19:50:08 INFO 140698178795328] #train_score (algo-1) : ('absolute_loss_objective', 1.1183347702026367)\u001b[0m\n",
      "\u001b[34m[11/20/2023 19:50:08 INFO 140698178795328] #train_score (algo-1) : ('mse', 1.8704752206802369)\u001b[0m\n",
      "\u001b[34m[11/20/2023 19:50:08 INFO 140698178795328] #train_score (algo-1) : ('absolute_loss', 1.1183347702026367)\u001b[0m\n",
      "\u001b[34m[11/20/2023 19:50:08 INFO 140698178795328] #train_score (algo-1) : ('rmse', 1.3676531799693359)\u001b[0m\n",
      "\u001b[34m[11/20/2023 19:50:08 INFO 140698178795328] #train_score (algo-1) : ('r2', 0.9096369355522729)\u001b[0m\n",
      "\u001b[34m[11/20/2023 19:50:08 INFO 140698178795328] #train_score (algo-1) : ('mae', 1.1183347702026367)\u001b[0m\n",
      "\u001b[34m[11/20/2023 19:50:08 INFO 140698178795328] #quality_metric: host=algo-1, train absolute_loss_objective <loss>=1.1183347702026367\u001b[0m\n",
      "\u001b[34m[11/20/2023 19:50:08 INFO 140698178795328] #quality_metric: host=algo-1, train mse <loss>=1.8704752206802369\u001b[0m\n",
      "\u001b[34m[11/20/2023 19:50:08 INFO 140698178795328] #quality_metric: host=algo-1, train absolute_loss <loss>=1.1183347702026367\u001b[0m\n",
      "\u001b[34m[11/20/2023 19:50:08 INFO 140698178795328] #quality_metric: host=algo-1, train rmse <loss>=1.3676531799693359\u001b[0m\n",
      "\u001b[34m[11/20/2023 19:50:08 INFO 140698178795328] #quality_metric: host=algo-1, train r2 <loss>=0.9096369355522729\u001b[0m\n",
      "\u001b[34m[11/20/2023 19:50:08 INFO 140698178795328] #quality_metric: host=algo-1, train mae <loss>=1.1183347702026367\u001b[0m\n",
      "\u001b[34m[11/20/2023 19:50:08 INFO 140698178795328] Best model found for hyperparameters: {\"optimizer\": \"adam\", \"learning_rate\": 0.1, \"wd\": 0.01, \"l1\": 0.0, \"lr_scheduler_step\": 10, \"lr_scheduler_factor\": 0.99, \"lr_scheduler_minimum_lr\": 0.0001}\u001b[0m\n",
      "\u001b[34m[11/20/2023 19:50:08 INFO 140698178795328] Saved checkpoint to \"/tmp/tmp_5ktvira/mx-mod-0000.params\"\u001b[0m\n",
      "\u001b[34m[11/20/2023 19:50:08 INFO 140698178795328] Test data is not provided.\u001b[0m\n",
      "\u001b[34m#metrics {\"StartTime\": 1700509806.5916283, \"EndTime\": 1700509808.537942, \"Dimensions\": {\"Algorithm\": \"Linear Learner\", \"Host\": \"algo-1\", \"Operation\": \"training\"}, \"Metrics\": {\"initialize.time\": {\"sum\": 250.98061561584473, \"count\": 1, \"min\": 250.98061561584473, \"max\": 250.98061561584473}, \"epochs\": {\"sum\": 5.0, \"count\": 1, \"min\": 5, \"max\": 5}, \"check_early_stopping.time\": {\"sum\": 4.4422149658203125, \"count\": 5, \"min\": 0.2911090850830078, \"max\": 1.3606548309326172}, \"update.time\": {\"sum\": 1624.070167541504, \"count\": 5, \"min\": 277.1410942077637, \"max\": 366.06287956237793}, \"finalize.time\": {\"sum\": 42.41037368774414, \"count\": 1, \"min\": 42.41037368774414, \"max\": 42.41037368774414}, \"setuptime\": {\"sum\": 2.5510787963867188, \"count\": 1, \"min\": 2.5510787963867188, \"max\": 2.5510787963867188}, \"totaltime\": {\"sum\": 2072.648763656616, \"count\": 1, \"min\": 2072.648763656616, \"max\": 2072.648763656616}}}\u001b[0m\n",
      "\n",
      "2023-11-20 19:50:29 Completed - Training job completed\n",
      "Training seconds: 152\n",
      "Billable seconds: 74\n",
      "Managed Spot Training savings: 51.3%\n"
     ]
    }
   ],
   "source": [
    "linear.fit({'train': s3_train_data})"
   ]
  },
  {
   "cell_type": "markdown",
   "id": "0e08b4fd-8182-469a-aeb2-72b0ba3faff2",
   "metadata": {},
   "source": [
    "# Deployment"
   ]
  },
  {
   "cell_type": "markdown",
   "id": "16b1bef9-aba0-45c2-a843-5a5dd4d2bd2a",
   "metadata": {},
   "source": [
    "## Import Libraries for reading data from an endpoint | Load endpoint"
   ]
  },
  {
   "cell_type": "code",
   "execution_count": 49,
   "id": "1c4a3b1a-2b63-4267-be51-a344a9fa28db",
   "metadata": {
    "tags": []
   },
   "outputs": [
    {
     "name": "stderr",
     "output_type": "stream",
     "text": [
      "INFO:sagemaker:Creating model with name: linear-learner-2023-11-20-19-52-24-113\n",
      "INFO:sagemaker:Creating endpoint-config with name linear-learner-2023-11-20-19-52-24-113\n",
      "INFO:sagemaker:Creating endpoint with name linear-learner-2023-11-20-19-52-24-113\n"
     ]
    },
    {
     "name": "stdout",
     "output_type": "stream",
     "text": [
      "---------!"
     ]
    }
   ],
   "source": [
    "from sagemaker.deserializers import JSONDeserializer\n",
    "from sagemaker.serializers import CSVSerializer\n",
    "\n",
    "linear_regressor = linear.deploy(initial_instance_count = 1,\n",
    "                                 instance_type = 'ml.m4.xlarge',\n",
    "                                 serializer = CSVSerializer(),\n",
    "                                 deserializer = JSONDeserializer())"
   ]
  },
  {
   "cell_type": "code",
   "execution_count": 50,
   "id": "306be83a-8c4a-464d-8959-488ef4360e5c",
   "metadata": {
    "tags": []
   },
   "outputs": [],
   "source": [
    "result = linear_regressor.predict(X_test)"
   ]
  },
  {
   "cell_type": "code",
   "execution_count": 51,
   "id": "3af806d4-40e7-4a84-a03e-3fec13f13aaf",
   "metadata": {
    "tags": []
   },
   "outputs": [],
   "source": [
    "predictions = np.array([r['score'] for r in result['predictions']])"
   ]
  },
  {
   "cell_type": "code",
   "execution_count": 52,
   "id": "e4c714f6-08d2-41e2-988f-9dd7c4d68c30",
   "metadata": {
    "tags": []
   },
   "outputs": [
    {
     "data": {
      "text/plain": [
       "array([20.16510963, 24.27571869, 21.75017166, 14.85158157, 20.89558029,\n",
       "       25.13499069, 23.45093536, 30.36515427, 18.2617054 , 25.79453087,\n",
       "       21.67390442, 24.11321831, 21.82940483, 16.62739182, 29.54484558,\n",
       "       24.97338486, 20.39742088, 25.77175903, 27.14259911, 26.74954987,\n",
       "       21.34647369, 16.84538269, 20.94968224, 27.34369278, 23.98570061,\n",
       "       25.83585167, 17.59520721, 21.23316574, 19.83618546, 18.65232468])"
      ]
     },
     "execution_count": 52,
     "metadata": {},
     "output_type": "execute_result"
    }
   ],
   "source": [
    "predictions"
   ]
  },
  {
   "cell_type": "code",
   "execution_count": 53,
   "id": "eb16d56e-ebca-44f1-8e9e-92e5476c8071",
   "metadata": {
    "tags": []
   },
   "outputs": [
    {
     "name": "stderr",
     "output_type": "stream",
     "text": [
      "INFO:matplotlib.font_manager:generated new fontManager\n"
     ]
    }
   ],
   "source": [
    "import matplotlib.pyplot as plt"
   ]
  },
  {
   "cell_type": "code",
   "execution_count": 54,
   "id": "c652113e-474c-4ff5-a879-f11b4d5b9617",
   "metadata": {
    "tags": []
   },
   "outputs": [
    {
     "data": {
      "image/png": "[encoded data removed]",
      "text/plain": [
       "<Figure size 1000x600 with 1 Axes>"
      ]
     },
     "metadata": {},
     "output_type": "display_data"
    }
   ],
   "source": [
    "# VISUALIZE TEST SET RESULTS\n",
    "plt.figure(figsize = (10, 6))\n",
    "plt.scatter(X_test, y_test, color = 'blue')\n",
    "plt.plot(X_test, predictions, color = 'red')\n",
    "plt.xlabel('Horse Power')\n",
    "plt.ylabel('MPG')\n",
    "plt.title('Horse Power vs MPG')\n",
    "plt.grid()"
   ]
  },
  {
   "cell_type": "markdown",
   "id": "c70ff93c-efbc-4c0b-8f01-2ba0c1dde814",
   "metadata": {},
   "source": [
    "## Delete Endpoint! Or else you will be billed!"
   ]
  },
  {
   "cell_type": "code",
   "execution_count": 55,
   "id": "31fc5de1-6cca-4704-8578-e1a57b61e1ed",
   "metadata": {
    "tags": []
   },
   "outputs": [
    {
     "name": "stderr",
     "output_type": "stream",
     "text": [
      "INFO:sagemaker:Deleting endpoint configuration with name: linear-learner-2023-11-20-19-52-24-113\n",
      "INFO:sagemaker:Deleting endpoint with name: linear-learner-2023-11-20-19-52-24-113\n"
     ]
    }
   ],
   "source": [
    "linear_regressor.delete_endpoint()"
   ]
  },
  {
   "cell_type": "code",
   "execution_count": null,
   "id": "ce178b6e-9170-491b-aa51-be723dc71c84",
   "metadata": {},
   "outputs": [],
   "source": []
  }
 ],
 "metadata": {
  "kernelspec": {
   "display_name": "conda_python3",
   "language": "python",
   "name": "conda_python3"
  },
  "language_info": {
   "codemirror_mode": {
    "name": "ipython",
    "version": 3
   },
   "file_extension": ".py",
   "mimetype": "text/x-python",
   "name": "python",
   "nbconvert_exporter": "python",
   "pygments_lexer": "ipython3",
   "version": "3.10.13"
  }
 },
 "nbformat": 4,
 "nbformat_minor": 5
}
